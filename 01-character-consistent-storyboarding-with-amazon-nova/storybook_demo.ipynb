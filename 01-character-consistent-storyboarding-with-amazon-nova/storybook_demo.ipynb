{
 "cells": [
  {
   "cell_type": "markdown",
   "id": "32de04f9-835f-4373-8d5e-9772a15a426b",
   "metadata": {},
   "source": [
    "# Install requirements and set up Bedrock client"
   ]
  },
  {
   "cell_type": "code",
   "execution_count": null,
   "id": "82c5b195-15bb-4d6f-9a7f-b29d0d70fdd4",
   "metadata": {},
   "outputs": [],
   "source": [
    "%pip install -r requirements.txt"
   ]
  },
  {
   "cell_type": "code",
   "execution_count": null,
   "id": "18518c79-3d77-48c5-8605-4411042e425b",
   "metadata": {},
   "outputs": [],
   "source": [
    "import boto3\n",
    "import base64\n",
    "import json\n",
    "import time\n",
    "import random\n",
    "import sagemaker\n",
    "\n",
    "from helpers.bedrock_helpers import generate_text, generate_images, get_random_seed, get_task_status\n",
    "from helpers.display_helpers import display_story_table, display_prompt_table, display_storyboard, display_hyperlink\n",
    "from helpers.prompt_helpers import system_prompts, get_character_descriptions, get_style_prompt\n",
    "\n",
    "bedrock_client = boto3.client(\"bedrock-runtime\")\n",
    "bedrock_client_us_east = boto3.client(\"bedrock-runtime\", region_name=\"us-east-1\")\n",
    "\n",
    "session = sagemaker.Session()\n",
    "default_bucket = session.default_bucket()\n",
    "role = sagemaker.get_execution_role()"
   ]
  },
  {
   "cell_type": "markdown",
   "id": "95b4826e-7adc-462b-a6f3-2f1cc5e56a9b",
   "metadata": {},
   "source": [
    "### Make sure the role below has the following permissions:\n",
    "- bedrock:invoke_model\n",
    "- bedrock:GetAsyncInvoke"
   ]
  },
  {
   "cell_type": "markdown",
   "id": "bc3ce7d0-7168-439f-8618-4c64c3208b7c",
   "metadata": {},
   "source": [
    "### You can use the following policy:"
   ]
  },
  {
   "cell_type": "markdown",
   "id": "00ff0a44-77ca-4d45-8f0d-bf1a14bf0a86",
   "metadata": {},
   "source": [
    "```\n",
    "{\n",
    "    \"Version\": \"2012-10-17\",\n",
    "    \"Statement\": [\n",
    "        {\n",
    "            \"Sid\": \"VisualEditor0\",\n",
    "            \"Effect\": \"Allow\",\n",
    "            \"Action\": [\n",
    "                \"bedrock:InvokeModel\",\n",
    "                \"bedrock:GetAsyncInvoke\"\n",
    "            ],\n",
    "            \"Resource\": \"*\"\n",
    "        }\n",
    "    ]\n",
    "}\n",
    "```"
   ]
  },
  {
   "cell_type": "code",
   "execution_count": null,
   "id": "92ba98fc-86d8-4e1f-b09d-34e7351d70f8",
   "metadata": {},
   "outputs": [],
   "source": [
    "display_hyperlink(role, f\"https://us-east-1.console.aws.amazon.com/iam/home?region=us-east-1#/roles/details/{role.split(\"/\")[-1]}?section=permissions\")"
   ]
  },
  {
   "cell_type": "markdown",
   "id": "0fe39aa0-9289-4f17-b353-aaf7d0b3a7f4",
   "metadata": {},
   "source": [
    "# Create the story and characters using generative AI"
   ]
  },
  {
   "cell_type": "code",
   "execution_count": null,
   "id": "06ab7fb6-44b8-4591-80dc-a8e641844ba4",
   "metadata": {},
   "outputs": [],
   "source": [
    "scene_count = 3\n",
    "genre = \"Family\"\n",
    "idea = \"a small robot is lost in a library and needs to read some books to find its way out\"\n",
    "characters = []"
   ]
  },
  {
   "cell_type": "code",
   "execution_count": null,
   "id": "b8a16d64-318c-4fae-9c81-c46c83a136d5",
   "metadata": {},
   "outputs": [],
   "source": [
    "user_prompt = f\"\"\"\n",
    "        Human: You are an award wining director, create {scene_count} scenes from the <StoryIdea> for storyboarding. The genre is {genre}.\n",
    "            <StoryIdea>\n",
    "            {idea}\n",
    "            </StoryIdea>\n",
    "        Use the specified characters in the story.  You can add more if needed.\n",
    "            <Characters>\n",
    "            {json.dumps(characters)}\n",
    "            </Characters>\n",
    "\"\"\""
   ]
  },
  {
   "cell_type": "code",
   "execution_count": null,
   "id": "6d15c2a8-f60e-42bc-aa5b-5433e8f5fa8b",
   "metadata": {},
   "outputs": [],
   "source": [
    "story = generate_text(bedrock_client, user_prompt, system_prompts[\"story\"])\n",
    "display_story_table(story)"
   ]
  },
  {
   "cell_type": "markdown",
   "id": "3adaef57-efa0-49f0-8c6e-199ce7804928",
   "metadata": {},
   "source": [
    "# For each scene, create a prompt to be used with Nova Canvas to generate storyboard panels"
   ]
  },
  {
   "cell_type": "code",
   "execution_count": null,
   "id": "975bc447-ad04-48ec-bfee-4c6372db0c83",
   "metadata": {},
   "outputs": [],
   "source": [
    "style = \"3D\"\n",
    "throttle_pause_time = 0\n",
    "\n",
    "image_prompts = {}\n",
    "for scene in story.get(\"scenes\"):\n",
    "    print(\"Processing scene {}/{} ...\".format(scene[\"scene_id\"]+1, story.get(\"scene_count\")))\n",
    "    base_image_prompt = f\"\"\"Generate a storyboard image for the following scene:\n",
    "            Scene decription:\n",
    "            {scene[\"description\"]}\n",
    "            Scene imagary:\n",
    "            {scene[\"imagery\"]}\n",
    "            Character descriptions:\n",
    "            {get_character_descriptions(scene)}\n",
    "            \"\"\"\n",
    "    conditioned_image_prompt = generate_text(bedrock_client, base_image_prompt, system_prompts[\"image\"])\n",
    "    time.sleep(throttle_pause_time)\n",
    "    styled_image_prompt = generate_text(bedrock_client, f\"Image generation prompt: {conditioned_image_prompt}\", get_style_prompt(style))\n",
    "    image_prompts[scene[\"scene_id\"]] = styled_image_prompt[\"prompt\"]\n",
    "    time.sleep(throttle_pause_time)\n",
    "\n",
    "display_prompt_table(story_data=story, image_prompts=image_prompts)"
   ]
  },
  {
   "cell_type": "markdown",
   "id": "4b324d10-889b-40b1-95ed-714c0f8ad707",
   "metadata": {},
   "source": [
    "# Use the generated prompts to create multiple variations of a storyboard panel for each scene"
   ]
  },
  {
   "cell_type": "code",
   "execution_count": null,
   "id": "4a2a91d3-170b-4506-948c-d0fbae0641c4",
   "metadata": {},
   "outputs": [],
   "source": [
    "images_per_scene = 3\n",
    "negative_prompt = \"ugly, yellow, red, green, blue, pink, orange, brown, old, dirty, colorful\"\n",
    "seed = get_random_seed()\n",
    "\n",
    "storyboard_images = {}\n",
    "for scene in story.get(\"scenes\"):\n",
    "    scene_id = scene[\"scene_id\"]\n",
    "    print(\"Processing scene {}/{} ...\".format(scene_id+1, story.get(\"scene_count\")))\n",
    "    prompt = image_prompts[scene_id]\n",
    "    images = generate_images(bedrock_client_us_east, prompt, negative_prompt, seed=seed, image_count=images_per_scene)\n",
    "    storyboard_images[scene_id] = images\n",
    "display_storyboard(storyboard_images, story)"
   ]
  },
  {
   "cell_type": "markdown",
   "id": "95935387-8f6b-4484-b4d3-54bd0b5a6099",
   "metadata": {},
   "source": [
    "# Create a video from the first image of the first scene"
   ]
  },
  {
   "cell_type": "code",
   "execution_count": null,
   "id": "b5fd5d11-3f40-4771-8d0e-b8ae308a82ed",
   "metadata": {},
   "outputs": [],
   "source": [
    "video_prompt = generate_text(bedrock_client, image_prompts[0], system_prompts[\"video\"]).get(\"prompt\")\n",
    "model_input = {\n",
    "    \"taskType\": \"TEXT_VIDEO\",\n",
    "    \"textToVideoParams\": {\n",
    "        \"text\": video_prompt,\n",
    "        \"images\": [{ \"format\": \"png\", \"source\": { \"bytes\": storyboard_images[0][0]} }]\n",
    "    },\n",
    "    \"videoGenerationConfig\": {\n",
    "        \"durationSeconds\": 6,\n",
    "        \"fps\": 24,\n",
    "        \"dimension\": \"1280x720\",\n",
    "        \"seed\": seed\n",
    "    }\n",
    "}\n",
    "\n",
    "invocation = bedrock_client_us_east.start_async_invoke(\n",
    "    modelId=\"amazon.nova-reel-v1:0\",\n",
    "    modelInput=model_input,\n",
    "    outputDataConfig={\"s3OutputDataConfig\": {\"s3Uri\": f\"s3://{default_bucket}\"}}\n",
    ")\n",
    "\n",
    "invocation_arn = invocation[\"invocationArn\"]\n",
    "s3_prefix = invocation_arn.split('/')[-1]\n",
    "s3_location = f\"s3://{default_bucket}/{s3_prefix}\"\n",
    "print(f\"\\nS3 URI: {s3_location}\")\n"
   ]
  },
  {
   "cell_type": "code",
   "execution_count": null,
   "id": "36702fec-b436-4f20-a101-b357ac726c0c",
   "metadata": {},
   "outputs": [],
   "source": [
    "status = get_task_status(bedrock_client_us_east, invocation_arn)\n",
    "print(f\"Status: {status}\")"
   ]
  },
  {
   "cell_type": "code",
   "execution_count": null,
   "id": "9c985c6b-e9dc-43ef-97dd-d79b16a19b0e",
   "metadata": {},
   "outputs": [],
   "source": []
  }
 ],
 "metadata": {
  "kernelspec": {
   "display_name": "Python 3 (ipykernel)",
   "language": "python",
   "name": "python3"
  },
  "language_info": {
   "codemirror_mode": {
    "name": "ipython",
    "version": 3
   },
   "file_extension": ".py",
   "mimetype": "text/x-python",
   "name": "python",
   "nbconvert_exporter": "python",
   "pygments_lexer": "ipython3",
   "version": "3.12.9"
  }
 },
 "nbformat": 4,
 "nbformat_minor": 5
}
