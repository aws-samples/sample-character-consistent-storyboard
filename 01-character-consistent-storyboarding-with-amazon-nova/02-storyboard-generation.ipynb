{
 "cells": [
  {
   "cell_type": "markdown",
   "id": "2d955b7f",
   "metadata": {},
   "source": [
    "# Character-Consistent Storyboard Generation\n",
    "In this hands-on session, we'll incorporate character consistency techniques to create cohesive storyboards for visual storytelling and animation development using Amazon Bedrock.\n",
    "\n",
    "## Workshop Objectives\n",
    "By the end of this workshop, you will:\n",
    "1. Understand how to use generative AI to create structured story scenes from a simple concept.\n",
    "2. Learn how to utilize character and style consistency techniques to create consistent storyboard panels using Nova Canvas.\n",
    "3. Use the generated panel images as references to create animated storyboards using Nova Reel.\n",
    "4. Develop a complete storyboard workflow from concept to visualization.\n"
   ]
  },
  {
   "cell_type": "markdown",
   "id": "e5717db7",
   "metadata": {},
   "source": [
    "## Introduction to Storyboard Generation\n",
    "\n",
    "Storyboarding is a critical step in the visual development process for animation, film, and other visual media. It helps visualize the narrative flow, camera angles, character positioning, and scene transitions before committing to full production.\n",
    "\n",
    "In this notebook, we'll use a combination of generative AI models to create a complete storyboarding workflow:\n",
    "\n",
    "1. **Claude 3 Sonnet** - For generating structured story scenes and refining image prompts\n",
    "2. **Nova Canvas** - For creating consistent storyboard panels\n",
    "3. **Nova Reel** - For animating selected panels into short video clips\n",
    "\n",
    "To begin, run the cell below to set up the necessary dependencies and create instances of the Bedrock clients we'll use throughout this workshop.\n"
   ]
  },
  {
   "cell_type": "code",
   "execution_count": null,
   "id": "06489df1",
   "metadata": {},
   "outputs": [],
   "source": [
    "%pip install -r requirements.txt"
   ]
  },
  {
   "cell_type": "markdown",
   "id": "b499a7e5",
   "metadata": {},
   "source": [
    "\n",
    "<div class=\"alert alert-block alert-warning\">\n",
    "<strong>⚠️ Important:</strong> Make sure your IAM role has the necessary permissions to invoke Bedrock models and access S3 for storing generated assets.\n",
    "</div>\n",
    "\n",
    "### IAM Permissions Requirements\n",
    "\n",
    "To run this notebook successfully, your IAM role needs the following permissions:\n",
    "- `bedrock:InvokeModel` - For calling the Bedrock models\n",
    "- `bedrock:GetAsyncInvoke` - For handling asynchronous model invocations\n",
    "\n",
    "You can use the following policy to grant these permissions:\n",
    "\n",
    "```\n",
    "{\n",
    "    \"Version\": \"2012-10-17\",\n",
    "    \"Statement\": [\n",
    "        {\n",
    "            \"Sid\": \"VisualEditor0\",\n",
    "            \"Effect\": \"Allow\",\n",
    "            \"Action\": [\n",
    "                \"bedrock:InvokeModel\",\n",
    "                \"bedrock:GetAsyncInvoke\"\n",
    "            ],\n",
    "            \"Resource\": \"*\"\n",
    "        }\n",
    "    ]\n",
    "}\n",
    "```\n"
   ]
  },
  {
   "cell_type": "code",
   "execution_count": null,
   "id": "aa983dd8",
   "metadata": {},
   "outputs": [],
   "source": [
    "import boto3\n",
    "import json\n",
    "import time\n",
    "import sagemaker\n",
    "\n",
    "from helpers.bedrock_helpers import (generate_text, generate_images, get_random_seed, \n",
    "                                     generate_videos)\n",
    "from helpers.display_helpers import (display_story_table, display_prompt_table, \n",
    "                                     display_storyboard, display_video, display_text)\n",
    "from helpers.prompt_helpers import (system_prompts, get_character_descriptions, \n",
    "                                    get_style_prompt)\n",
    "\n",
    "session = boto3.Session(region_name=\"us-east-1\")\n",
    "\n",
    "bedrock_client = session.client(\"bedrock-runtime\")\n",
    "s3_client = session.client(\"s3\")\n",
    "\n",
    "session = sagemaker.Session(boto_session=session)\n",
    "default_bucket = session.default_bucket()\n",
    "\n",
    "# foundation model used to develop the storyboard\n",
    "text_generation_model_id = \"us.anthropic.claude-3-7-sonnet-20250219-v1:0\"\n",
    "image_generation_model_id = \"amazon.nova-canvas-v1:0\"\n",
    "video_generation_model_id = \"amazon.nova-reel-v1:0\""
   ]
  },
  {
   "cell_type": "markdown",
   "id": "815e3f42",
   "metadata": {},
   "source": [
    "## Step 1: Story Generation with Claude\n",
    "\n",
    "The first step in our storyboarding process is to generate a structured story with well-defined scenes. We'll use Claude 3 Sonnet to create a story based on a simple idea or concept.\n",
    "\n",
    "In the cells below, we'll:\n",
    "1. Define our story parameters (scene count, genre, and basic idea)\n",
    "2. Optionally specify existing characters to include\n",
    "3. Generate a structured story with scenes, descriptions, and imagery guidance\n",
    "\n",
    "Let's start by defining our story parameters:"
   ]
  },
  {
   "cell_type": "code",
   "execution_count": null,
   "id": "5a4120fb",
   "metadata": {},
   "outputs": [],
   "source": [
    "scene_count = 3\n",
    "genre = \"Family\"\n",
    "idea = \"a small robot is lost in a library and needs to read some books to find its way out\"\n",
    "characters = []"
   ]
  },
  {
   "cell_type": "markdown",
   "id": "9426f413",
   "metadata": {},
   "source": [
    "Now, let's create a prompt for Claude to generate our story structure. The prompt instructs Claude to act as an award-winning director and create a specified number of scenes based on our story idea."
   ]
  },
  {
   "cell_type": "code",
   "execution_count": null,
   "id": "281abdbe",
   "metadata": {},
   "outputs": [],
   "source": [
    "user_prompt = f\"\"\"\n",
    "        Human: You are an award wining director, create {scene_count} scenes from the <StoryIdea> for storyboarding. The genre is {genre}.\n",
    "            <StoryIdea>\n",
    "            {idea}\n",
    "            </StoryIdea>\n",
    "        Use the specified characters in the story.  You can add more if needed.\n",
    "            <Characters>\n",
    "            {json.dumps(characters)}\n",
    "            </Characters>\n",
    "\"\"\""
   ]
  },
  {
   "cell_type": "markdown",
   "id": "3d875b26",
   "metadata": {},
   "source": [
    "Let's generate the story structure using Claude and display the results in a table format:"
   ]
  },
  {
   "cell_type": "code",
   "execution_count": null,
   "id": "0b3812b5",
   "metadata": {},
   "outputs": [],
   "source": [
    "story = generate_text(bedrock_client, text_generation_model_id, user_prompt, system_prompts[\"story\"])\n",
    "display_story_table(story)"
   ]
  },
  {
   "cell_type": "markdown",
   "id": "d82ef314",
   "metadata": {},
   "source": [
    "## Step 2: Image Prompt Generation\n",
    "\n",
    "Now that we have our story structure, we need to create effective prompts for Nova Canvas to generate our storyboard panels. Good prompts are crucial for getting high-quality, consistent images that accurately represent our scenes.\n",
    "\n",
    "In this step, we'll:\n",
    "1. Process each scene to create a base image prompt\n",
    "2. Use Claude to refine and condition these prompts for optimal results\n",
    "3. Apply a consistent visual style to all prompts\n",
    "\n",
    "Let's generate our image prompts:"
   ]
  },
  {
   "cell_type": "code",
   "execution_count": null,
   "id": "3d27c4c5",
   "metadata": {},
   "outputs": [],
   "source": [
    "style = \"3D\"\n",
    "throttle_pause_time = 0\n",
    "\n",
    "image_prompts = {}\n",
    "for scene in story.get(\"scenes\"):\n",
    "    print(\"Processing scene {}/{} ...\".format(scene[\"scene_id\"]+1, story.get(\"scene_count\")))\n",
    "    base_image_prompt = f\"\"\"Generate a storyboard image for the following scene:\n",
    "            Scene decription:\n",
    "            {scene[\"description\"]}\n",
    "            Scene imagary:\n",
    "            {scene[\"imagery\"]}\n",
    "            Character descriptions:\n",
    "            {get_character_descriptions(scene)}\n",
    "            \"\"\"\n",
    "    conditioned_image_prompt = generate_text(bedrock_client, text_generation_model_id, base_image_prompt, system_prompts[\"image\"])\n",
    "    time.sleep(throttle_pause_time)\n",
    "    styled_image_prompt = generate_text(bedrock_client, text_generation_model_id, f\"Image generation prompt: {conditioned_image_prompt}\", get_style_prompt(style))\n",
    "    image_prompts[scene[\"scene_id\"]] = styled_image_prompt[\"prompt\"]\n",
    "    time.sleep(throttle_pause_time)\n",
    "\n",
    "display_prompt_table(story_data=story, image_prompts=image_prompts)"
   ]
  },
  {
   "cell_type": "markdown",
   "id": "ec700899",
   "metadata": {},
   "source": [
    "## Step 3: Storyboard Panel Generation\n",
    "\n",
    "With our refined image prompts ready, we can now generate storyboard panels using Nova Canvas. To ensure we have options for each scene, we'll generate multiple variations per scene.\n",
    "\n",
    "In this step, we'll:\n",
    "1. Generate multiple image variations for each scene\n",
    "2. Use a consistent seed value to maintain visual coherence\n",
    "3. Apply negative prompting to avoid unwanted elements\n",
    "\n",
    "Let's generate our storyboard panels:"
   ]
  },
  {
   "cell_type": "code",
   "execution_count": null,
   "id": "148524dd",
   "metadata": {},
   "outputs": [],
   "source": [
    "images_per_scene = 3\n",
    "negative_prompt = \"ugly, yellow, red, green, blue, pink, orange, brown, old, dirty, colorful\"\n",
    "seed = get_random_seed()\n",
    "\n",
    "storyboard_images = {}\n",
    "for scene in story.get(\"scenes\"):\n",
    "    scene_id = scene[\"scene_id\"]\n",
    "    print(\"Processing scene {}/{} ...\".format(scene_id+1, story.get(\"scene_count\")))\n",
    "    prompt = image_prompts[scene_id]\n",
    "    images = generate_images(bedrock_client, image_generation_model_id, prompt, negative_prompt, seed=seed, image_count=images_per_scene)\n",
    "    storyboard_images[scene_id] = images\n",
    "display_storyboard(storyboard_images, story)"
   ]
  },
  {
   "cell_type": "markdown",
   "id": "8df11630",
   "metadata": {},
   "source": [
    "## Step 4: Video Generation from Storyboard Panel\n",
    "\n",
    "As a final step, we can bring one of our storyboard panels to life by generating a short video clip using Nova Reel. This can help visualize how the scene might look in motion.\n",
    "\n",
    "In this step, we'll:\n",
    "1. Select the first image from the first scene\n",
    "2. Generate a video prompt based on the image prompt\n",
    "3. Create a short video clip using Nova Reel\n",
    "\n",
    "Let's generate our video:"
   ]
  },
  {
   "cell_type": "code",
   "execution_count": null,
   "id": "fa19d080",
   "metadata": {},
   "outputs": [],
   "source": [
    "video_prompt = generate_text(bedrock_client, text_generation_model_id, image_prompts[0], system_prompts[\"video\"]).get(\"prompt\")\n",
    "display_text(f\"> Video prompt: {video_prompt}\")\n",
    "\n",
    "s3_location = generate_videos(bedrock_client, video_generation_model_id, video_prompt, storyboard_images[0][0], default_bucket)\n"
   ]
  },
  {
   "cell_type": "markdown",
   "id": "838ed3ca",
   "metadata": {},
   "source": [
    "Finally, let's download and display the generated video:"
   ]
  },
  {
   "cell_type": "code",
   "execution_count": null,
   "id": "3640976b",
   "metadata": {},
   "outputs": [],
   "source": [
    "video_output = \"output.mp4\"\n",
    "s3_prefix = s3_location.split(\"/\")[-1]\n",
    "s3_client.download_file(default_bucket, f\"{s3_prefix}/{video_output}\", video_output)\n",
    "\n",
    "# Display the video in the notebook\n",
    "display_video(video_output)"
   ]
  },
  {
   "cell_type": "markdown",
   "id": "665100d8",
   "metadata": {},
   "source": [
    "## Conclusion\n",
    "\n",
    "In this workshop, you've learned how to create a complete storyboarding workflow using Amazon Bedrock's generative AI capabilities:\n",
    "\n",
    "1. Using Claude to generate structured story scenes\n",
    "2. Creating optimized image prompts for Nova Canvas\n",
    "3. Generating consistent storyboard panels with visual coherence\n",
    "4. Bringing storyboard panels to life with Nova Reel\n",
    "\n",
    "This workflow can significantly accelerate the pre-production process for animation, film, and other visual media projects, allowing creators to quickly visualize concepts and iterate on ideas before committing to full production."
   ]
  }
 ],
 "metadata": {
  "kernelspec": {
   "display_name": "jupyter-notebook",
   "language": "python",
   "name": "python3"
  },
  "language_info": {
   "codemirror_mode": {
    "name": "ipython",
    "version": 3
   },
   "file_extension": ".py",
   "mimetype": "text/x-python",
   "name": "python",
   "nbconvert_exporter": "python",
   "pygments_lexer": "ipython3",
   "version": "3.13.3"
  }
 },
 "nbformat": 4,
 "nbformat_minor": 5
}
