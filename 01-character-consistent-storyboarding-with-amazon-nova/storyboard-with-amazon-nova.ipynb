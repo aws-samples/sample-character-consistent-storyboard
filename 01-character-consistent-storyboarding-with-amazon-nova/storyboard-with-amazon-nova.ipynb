{
 "cells": [
  {
   "cell_type": "markdown",
   "id": "intro-section",
   "metadata": {},
   "source": [
    "# Character Consistent Storyboarding with Amazon Nova\n",
    "\n",
    "This notebook demonstrates how to create character-consistent storyboards using Amazon Nova Canvas and Amazon Nova Reel on Amazon Bedrock. We'll explore prompt engineering techniques to maintain visual consistency across multiple scenes.\n",
    "\n",
    "## Introduction\n",
    "\n",
    "Storyboarding is a critical visualization tool in content production across filmmaking, animation, advertising, and UX design. While generative AI models like Amazon Nova Canvas and Nova Reel can generate concepts quickly, maintaining consistent character designs and stylistic coherence across scenes remains challenging.\n",
    "\n",
    "In this notebook, we'll demonstrate prompt engineering techniques to achieve character consistency without fine-tuning the model.\n",
    "\n",
    "## Prerequisites\n",
    "- AWS account with access to Amazon Bedrock\n",
    "- Appropriate IAM permissions for Bedrock\n",
    "- The required Python packages (installed in the first cell)"
   ]
  },
  {
   "cell_type": "code",
   "execution_count": null,
   "id": "82c5b195-15bb-4d6f-9a7f-b29d0d70fdd4",
   "metadata": {},
   "outputs": [],
   "source": [
    "%pip install -r requirements.txt"
   ]
  },
  {
   "cell_type": "markdown",
   "id": "setup-section",
   "metadata": {},
   "source": [
    "## Setup\n",
    "\n",
    "First, let's import the necessary libraries and helper functions. These include:\n",
    "- AWS SDK for Python (boto3) for interacting with Amazon Bedrock\n",
    "- Helper functions for generating text and images\n",
    "- Display functions for visualizing our storyboards\n",
    "- Prompt templates for consistent results"
   ]
  },
  {
   "cell_type": "code",
   "execution_count": null,
   "id": "18518c79-3d77-48c5-8605-4411042e425b",
   "metadata": {},
   "outputs": [],
   "source": [
    "import boto3\n",
    "import base64\n",
    "import json\n",
    "import random\n",
    "\n",
    "from helpers.bedrock_helpers import generate_text, generate_images, get_random_seed\n",
    "from helpers.display_helpers import display_story_table, display_prompt_table, display_storyboard\n",
    "from helpers.prompt_helpers import system_prompts, get_character_descriptions, get_style_prompt\n",
    "\n",
    "bedrock_client = boto3.client(\"bedrock-runtime\")\n",
    "bedrock_client_us_east = boto3.client(\"bedrock-runtime\", region_name=\"us-east-1\")"
   ]
  },
  {
   "cell_type": "markdown",
   "id": "story-setup-section",
   "metadata": {},
   "source": [
    "## Story Setup\n",
    "\n",
    "Now we'll define the basic parameters for our storyboard:\n",
    "- Number of scenes\n",
    "- Genre\n",
    "- Basic story idea\n",
    "- Characters (initially empty, we'll add them later)"
   ]
  },
  {
   "cell_type": "code",
   "execution_count": null,
   "id": "06ab7fb6-44b8-4591-80dc-a8e641844ba4",
   "metadata": {},
   "outputs": [],
   "source": [
    "scene_count = 3\n",
    "genre = \"Family\"\n",
    "idea = \"a small robot is lost in a library and needs to read some books to find its way out\"\n",
    "characters = []"
   ]
  },
  {
   "cell_type": "markdown",
   "id": "prompt-creation-section",
   "metadata": {},
   "source": [
    "## Prompt Creation\n",
    "\n",
    "We'll create a prompt for the foundation model to generate our story structure. This prompt instructs the model to act as a director and create scenes for our storyboard based on our story idea and genre."
   ]
  },
  {
   "cell_type": "code",
   "execution_count": null,
   "id": "b8a16d64-318c-4fae-9c81-c46c83a136d5",
   "metadata": {},
   "outputs": [],
   "source": [
    "user_prompt = f\"\"\"\n",
    "        Human: You are an award wining director, create {scene_count} scenes from the <StoryIdea> for storyboarding. The genre is {genre}.\n",
    "            <StoryIdea>\n",
    "            {idea}\n",
    "            </StoryIdea>\n",
    "        Use the specified characters in the story.  You can add more if needed.\n",
    "            <Characters>\n",
    "            {json.dumps(characters)}\n",
    "            </Characters>\n",
    "\"\"\""
   ]
  },
  {
   "cell_type": "markdown",
   "id": "story-generation-section",
   "metadata": {},
   "source": [
    "## Story Generation\n",
    "\n",
    "Now we'll use Amazon Bedrock to generate our story structure. The `generate_text` function will send our prompt to the model and parse the response into a structured format. The `display_story_table` function will then present the story in a readable table format."
   ]
  },
  {
   "cell_type": "code",
   "execution_count": null,
   "id": "6d15c2a8-f60e-42bc-aa5b-5433e8f5fa8b",
   "metadata": {},
   "outputs": [],
   "source": [
    "story = generate_text(bedrock_client, user_prompt, system_prompts[\"story\"])\n",
    "display_story_table(story)"
   ]
  },
  {
   "cell_type": "markdown",
   "id": "system-prompt-section",
   "metadata": {},
   "source": [
    "## System Prompt Examination\n",
    "\n",
    "Let's examine the system prompt used for story generation. This helps us understand how the model is being instructed to structure the story output."
   ]
  },
  {
   "cell_type": "code",
   "execution_count": null,
   "id": "fefd9f0f-3844-4d1a-b894-fb5e13e736ba",
   "metadata": {},
   "outputs": [],
   "source": [
    "# Checkout the system prompt (display json)"
   ]
  },
  {
   "cell_type": "markdown",
   "id": "image-prompt-section",
   "metadata": {},
   "source": [
    "## Image Prompt Creation\n",
    "\n",
    "Now we'll create prompts for generating storyboard images. For character consistency, we'll use a specific style and detailed descriptions of each scene. The style parameter can be adjusted to achieve different visual aesthetics."
   ]
  },
  {
   "cell_type": "code",
   "execution_count": null,
   "id": "975bc447-ad04-48ec-bfee-4c6372db0c83",
   "metadata": {},
   "outputs": [],
   "source": [
    "style = \"3D\"\n",
    "\n",
    "image_prompts = {}\n",
    "for scene in story.get(\"scenes\"):\n",
    "    print(\"Processing scene {}/{} ...\".format(scene[\"scene_id\"]+1, story.get(\"scene_count\")))\n",
    "    base_image_prompt = f\"\"\"Generate a storyboard image for the following scene: \n",
    "            Scene decription: \n",
    "            {scene[\"description\"]}\n",
    "            Scene imagary: \n",
    "            {scene[\"imagery\"]}\n",
    "            Character descriptions: \n",
    "            {get_character_descriptions(scene)}\n",
    "            \"\"\"\n",
    "    conditioned_image_prompt = generate_text(bedrock_client, base_image_prompt, system_prompts[\"image\"])\n",
    "    styled_image_prompt = generate_text(bedrock_client, f\"Image generation prompt: {conditioned_image_prompt}\", get_style_prompt(style))\n",
    "    image_prompts[scene[\"scene_id\"]] = styled_image_prompt[\"prompt\"]\n",
    "display_prompt_table(story_data=story, image_prompts=image_prompts)"
   ]
  },
  {
   "cell_type": "markdown",
   "id": "image-generation-section",
   "metadata": {},
   "source": [
    "## Image Generation & Display Storyboard\n",
    "\n",
    "\n",
    "Now we'll generate storyboard images using Amazon Nova Canvas. For each scene, we'll generate multiple images with the same seed to maintain consistency. The negative prompt helps avoid unwanted elements in the generated images.\n",
    "\n",
    "Finally, let's display our complete storyboard with the generated images. This will show each scene with its description and the corresponding images. You can select different images for each scene to create your final storyboard."
   ]
  },
  {
   "cell_type": "code",
   "execution_count": null,
   "id": "c9c9c9c9-c9c9-c9c9-c9c9-c9c9c9c9c9c9",
   "metadata": {},
   "outputs": [],
   "source": [
    "images_per_scene = 3\n",
    "negative_prompt = \"ugly, yellow, red, green, blue, pink, orange, brown, old, dirty, colorful\"\n",
    "seed = get_random_seed()\n",
    "\n",
    "storyboard_images = {}\n",
    "for scene in story.get(\"scenes\"):\n",
    "    scene_id = scene[\"scene_id\"]\n",
    "    print(\"Processing scene {}/{} ...\".format(scene_id+1, story.get(\"scene_count\")))\n",
    "    prompt = image_prompts[scene_id]\n",
    "    images = generate_images(bedrock_client_us_east, prompt, negative_prompt, seed=seed, image_count=images_per_scene)\n",
    "    storyboard_images[scene_id] = images\n",
    "\n",
    "display_storyboard(storyboard_images, story)"
   ]
  },
  {
   "cell_type": "markdown",
   "id": "conclusion-section",
   "metadata": {},
   "source": [
    "## Conclusion\n",
    "\n",
    "In this notebook, we've demonstrated how to create character-consistent storyboards using Amazon Nova Canvas through careful prompt engineering. Key techniques include:\n",
    "\n",
    "1. Detailed scene descriptions with specific character attributes\n",
    "2. Consistent style prompts across all scenes\n",
    "3. Using the same seed value for all image generations\n",
    "4. Negative prompts to avoid unwanted elements\n",
    "\n",
    "For even greater character consistency, consider exploring the fine-tuning approach demonstrated in Part 2 of this series."
   ]
  }
 ],
 "metadata": {
  "kernelspec": {
   "display_name": "AWS",
   "language": "python",
   "name": "aws_kernel"
  },
  "language_info": {
   "codemirror_mode": {
    "name": "ipython",
    "version": 3
   },
   "file_extension": ".py",
   "mimetype": "text/x-python",
   "name": "python",
   "nbconvert_exporter": "python",
   "pygments_lexer": "ipython3",
   "version": "3.9.6"
  }
 },
 "nbformat": 4,
 "nbformat_minor": 5
}
