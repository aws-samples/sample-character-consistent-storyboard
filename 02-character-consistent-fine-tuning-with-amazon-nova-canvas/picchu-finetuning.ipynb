{
 "cells": [
  {
   "cell_type": "markdown",
   "id": "df9e00cd-3e08-460f-905d-ece622b02369",
   "metadata": {},
   "source": [
    "## Nova Canvas Fine-Tuning for Character Consistency\n",
    "\n",
    "This notebook demonstrates how to fine-tune Amazon Nova Canvas to create character-consistent storyboards using images from the animated short film \\\"Picchu\\\".\n",
    "\n",
    "## Introduction\n",
    "\n",
    "In this notebook, we'll walk through the process of fine-tuning Amazon Nova Canvas to maintain visual consistency for specific characters (Mayu and her mom) across multiple generated images. This approach allows for more precise control over character appearance than prompt engineering alone.\n",
    "\n",
    "### Prerequisites\n",
    "- AWS account with access to Amazon Bedrock\n",
    "- Appropriate IAM permissions for Bedrock, S3, and related services\n",
    "- This notebook must be run in the `us-east-1` AWS region\n",
    "- <span style=\"color:red\">Request increase for no-commitment provision throughput quota for a custom model in AWS account. See [Requesting a quota increase](https://docs.aws.amazon.com/servicequotas/latest/userguide/request-quota-increase.html) for more detail.</span>\n",
    "\n",
    "<div class=\"alert alert-info\">\n",
    "<b>INFO:</b> At the time of development, Amazon Nova Canvas model is only available in `us-east-1`\n",
    "</div>\n",
    "\n",
    "### What You'll Learn\n",
    "- How to prepare training data from existing character images\n",
    "- How to configure and run a fine-tuning job on Amazon Nova Canvas\n",
    "- How to generate character-consistent storyboard frames with your fine-tuned model\n",
    "\n",
    "You can watch the original \\\"Picchu\\\" animated short film here: [Picchu on YouTube](https://www.youtube.com/watch?v=XfyJbkRV_Eo)"
   ]
  },
  {
   "cell_type": "markdown",
   "id": "19299fb3-b4de-42ed-bd32-91343d8bda35",
   "metadata": {},
   "source": [
    "### Setup\n",
    "\n",
    "First, let's install the required dependencies for this notebook. These packages will help us with image processing, AWS interactions, and visualization.\n",
    " "
   ]
  },
  {
   "cell_type": "code",
   "execution_count": 2,
   "id": "d102108c-fda0-408c-ad90-204f354193b4",
   "metadata": {
    "scrolled": true
   },
   "outputs": [
    {
     "name": "stdout",
     "output_type": "stream",
     "text": [
      "Looking in indexes: https://pypi.org/simple, https://plugin.us-east-1.prod.workshops.aws\n",
      "Requirement already satisfied: sagemaker in /Users/jingswu/Desktop/code-lab/sample-character-consistent-storyboard/jupyter-notebook/lib/python3.13/site-packages (from -r requirements.txt (line 1)) (2.244.1)\n",
      "Requirement already satisfied: boto3>=1.38.8 in /Users/jingswu/Desktop/code-lab/sample-character-consistent-storyboard/jupyter-notebook/lib/python3.13/site-packages (from -r requirements.txt (line 2)) (1.38.18)\n",
      "Requirement already satisfied: tqdm==4.67.1 in /Users/jingswu/Desktop/code-lab/sample-character-consistent-storyboard/jupyter-notebook/lib/python3.13/site-packages (from -r requirements.txt (line 3)) (4.67.1)\n",
      "Requirement already satisfied: urllib3==2.4.0 in /Users/jingswu/Desktop/code-lab/sample-character-consistent-storyboard/jupyter-notebook/lib/python3.13/site-packages (from -r requirements.txt (line 4)) (2.4.0)\n",
      "Requirement already satisfied: pathlib==1.0.1 in /Users/jingswu/Desktop/code-lab/sample-character-consistent-storyboard/jupyter-notebook/lib/python3.13/site-packages (from -r requirements.txt (line 5)) (1.0.1)\n",
      "Requirement already satisfied: pillow>=11.2.1 in /Users/jingswu/Desktop/code-lab/sample-character-consistent-storyboard/jupyter-notebook/lib/python3.13/site-packages (from -r requirements.txt (line 6)) (11.2.1)\n",
      "Requirement already satisfied: matplotlib>=3.10.3 in /Users/jingswu/Desktop/code-lab/sample-character-consistent-storyboard/jupyter-notebook/lib/python3.13/site-packages (from -r requirements.txt (line 7)) (3.10.3)\n",
      "Requirement already satisfied: attrs<24,>=23.1.0 in /Users/jingswu/Desktop/code-lab/sample-character-consistent-storyboard/jupyter-notebook/lib/python3.13/site-packages (from sagemaker->-r requirements.txt (line 1)) (23.2.0)\n",
      "Requirement already satisfied: cloudpickle>=2.2.1 in /Users/jingswu/Desktop/code-lab/sample-character-consistent-storyboard/jupyter-notebook/lib/python3.13/site-packages (from sagemaker->-r requirements.txt (line 1)) (3.1.1)\n",
      "Requirement already satisfied: docker in /Users/jingswu/Desktop/code-lab/sample-character-consistent-storyboard/jupyter-notebook/lib/python3.13/site-packages (from sagemaker->-r requirements.txt (line 1)) (7.1.0)\n",
      "Requirement already satisfied: fastapi in /Users/jingswu/Desktop/code-lab/sample-character-consistent-storyboard/jupyter-notebook/lib/python3.13/site-packages (from sagemaker->-r requirements.txt (line 1)) (0.115.12)\n",
      "Requirement already satisfied: google-pasta in /Users/jingswu/Desktop/code-lab/sample-character-consistent-storyboard/jupyter-notebook/lib/python3.13/site-packages (from sagemaker->-r requirements.txt (line 1)) (0.2.0)\n",
      "Requirement already satisfied: importlib-metadata<7.0,>=1.4.0 in /Users/jingswu/Desktop/code-lab/sample-character-consistent-storyboard/jupyter-notebook/lib/python3.13/site-packages (from sagemaker->-r requirements.txt (line 1)) (6.11.0)\n",
      "Requirement already satisfied: jsonschema in /Users/jingswu/Desktop/code-lab/sample-character-consistent-storyboard/jupyter-notebook/lib/python3.13/site-packages (from sagemaker->-r requirements.txt (line 1)) (4.23.0)\n",
      "Requirement already satisfied: numpy==1.26.4 in /Users/jingswu/Desktop/code-lab/sample-character-consistent-storyboard/jupyter-notebook/lib/python3.13/site-packages (from sagemaker->-r requirements.txt (line 1)) (1.26.4)\n",
      "Requirement already satisfied: omegaconf<3,>=2.2 in /Users/jingswu/Desktop/code-lab/sample-character-consistent-storyboard/jupyter-notebook/lib/python3.13/site-packages (from sagemaker->-r requirements.txt (line 1)) (2.3.0)\n",
      "Requirement already satisfied: packaging<25,>=23.0 in /Users/jingswu/Desktop/code-lab/sample-character-consistent-storyboard/jupyter-notebook/lib/python3.13/site-packages (from sagemaker->-r requirements.txt (line 1)) (24.2)\n",
      "Requirement already satisfied: pandas in /Users/jingswu/Desktop/code-lab/sample-character-consistent-storyboard/jupyter-notebook/lib/python3.13/site-packages (from sagemaker->-r requirements.txt (line 1)) (2.2.3)\n",
      "Requirement already satisfied: pathos in /Users/jingswu/Desktop/code-lab/sample-character-consistent-storyboard/jupyter-notebook/lib/python3.13/site-packages (from sagemaker->-r requirements.txt (line 1)) (0.3.4)\n",
      "Requirement already satisfied: platformdirs in /Users/jingswu/Desktop/code-lab/sample-character-consistent-storyboard/jupyter-notebook/lib/python3.13/site-packages (from sagemaker->-r requirements.txt (line 1)) (4.3.8)\n",
      "Requirement already satisfied: protobuf<6.0,>=3.12 in /Users/jingswu/Desktop/code-lab/sample-character-consistent-storyboard/jupyter-notebook/lib/python3.13/site-packages (from sagemaker->-r requirements.txt (line 1)) (5.29.4)\n",
      "Requirement already satisfied: psutil in /Users/jingswu/Desktop/code-lab/sample-character-consistent-storyboard/jupyter-notebook/lib/python3.13/site-packages (from sagemaker->-r requirements.txt (line 1)) (7.0.0)\n",
      "Requirement already satisfied: pyyaml>=6.0.1 in /Users/jingswu/Desktop/code-lab/sample-character-consistent-storyboard/jupyter-notebook/lib/python3.13/site-packages (from sagemaker->-r requirements.txt (line 1)) (6.0.2)\n",
      "Requirement already satisfied: requests in /Users/jingswu/Desktop/code-lab/sample-character-consistent-storyboard/jupyter-notebook/lib/python3.13/site-packages (from sagemaker->-r requirements.txt (line 1)) (2.32.3)\n",
      "Requirement already satisfied: sagemaker-core<2.0.0,>=1.0.17 in /Users/jingswu/Desktop/code-lab/sample-character-consistent-storyboard/jupyter-notebook/lib/python3.13/site-packages (from sagemaker->-r requirements.txt (line 1)) (1.0.34)\n",
      "Requirement already satisfied: schema in /Users/jingswu/Desktop/code-lab/sample-character-consistent-storyboard/jupyter-notebook/lib/python3.13/site-packages (from sagemaker->-r requirements.txt (line 1)) (0.7.7)\n",
      "Requirement already satisfied: smdebug-rulesconfig==1.0.1 in /Users/jingswu/Desktop/code-lab/sample-character-consistent-storyboard/jupyter-notebook/lib/python3.13/site-packages (from sagemaker->-r requirements.txt (line 1)) (1.0.1)\n",
      "Requirement already satisfied: tblib<4,>=1.7.0 in /Users/jingswu/Desktop/code-lab/sample-character-consistent-storyboard/jupyter-notebook/lib/python3.13/site-packages (from sagemaker->-r requirements.txt (line 1)) (3.1.0)\n",
      "Requirement already satisfied: uvicorn in /Users/jingswu/Desktop/code-lab/sample-character-consistent-storyboard/jupyter-notebook/lib/python3.13/site-packages (from sagemaker->-r requirements.txt (line 1)) (0.34.2)\n",
      "Requirement already satisfied: botocore<1.39.0,>=1.38.18 in /Users/jingswu/Desktop/code-lab/sample-character-consistent-storyboard/jupyter-notebook/lib/python3.13/site-packages (from boto3>=1.38.8->-r requirements.txt (line 2)) (1.38.18)\n",
      "Requirement already satisfied: jmespath<2.0.0,>=0.7.1 in /Users/jingswu/Desktop/code-lab/sample-character-consistent-storyboard/jupyter-notebook/lib/python3.13/site-packages (from boto3>=1.38.8->-r requirements.txt (line 2)) (1.0.1)\n",
      "Requirement already satisfied: s3transfer<0.13.0,>=0.12.0 in /Users/jingswu/Desktop/code-lab/sample-character-consistent-storyboard/jupyter-notebook/lib/python3.13/site-packages (from boto3>=1.38.8->-r requirements.txt (line 2)) (0.12.0)\n",
      "Requirement already satisfied: contourpy>=1.0.1 in /Users/jingswu/Desktop/code-lab/sample-character-consistent-storyboard/jupyter-notebook/lib/python3.13/site-packages (from matplotlib>=3.10.3->-r requirements.txt (line 7)) (1.3.2)\n",
      "Requirement already satisfied: cycler>=0.10 in /Users/jingswu/Desktop/code-lab/sample-character-consistent-storyboard/jupyter-notebook/lib/python3.13/site-packages (from matplotlib>=3.10.3->-r requirements.txt (line 7)) (0.12.1)\n",
      "Requirement already satisfied: fonttools>=4.22.0 in /Users/jingswu/Desktop/code-lab/sample-character-consistent-storyboard/jupyter-notebook/lib/python3.13/site-packages (from matplotlib>=3.10.3->-r requirements.txt (line 7)) (4.58.0)\n",
      "Requirement already satisfied: kiwisolver>=1.3.1 in /Users/jingswu/Desktop/code-lab/sample-character-consistent-storyboard/jupyter-notebook/lib/python3.13/site-packages (from matplotlib>=3.10.3->-r requirements.txt (line 7)) (1.4.8)\n",
      "Requirement already satisfied: pyparsing>=2.3.1 in /Users/jingswu/Desktop/code-lab/sample-character-consistent-storyboard/jupyter-notebook/lib/python3.13/site-packages (from matplotlib>=3.10.3->-r requirements.txt (line 7)) (3.2.3)\n",
      "Requirement already satisfied: python-dateutil>=2.7 in /Users/jingswu/Desktop/code-lab/sample-character-consistent-storyboard/jupyter-notebook/lib/python3.13/site-packages (from matplotlib>=3.10.3->-r requirements.txt (line 7)) (2.9.0.post0)\n",
      "Requirement already satisfied: zipp>=0.5 in /Users/jingswu/Desktop/code-lab/sample-character-consistent-storyboard/jupyter-notebook/lib/python3.13/site-packages (from importlib-metadata<7.0,>=1.4.0->sagemaker->-r requirements.txt (line 1)) (3.21.0)\n",
      "Requirement already satisfied: antlr4-python3-runtime==4.9.* in /Users/jingswu/Desktop/code-lab/sample-character-consistent-storyboard/jupyter-notebook/lib/python3.13/site-packages (from omegaconf<3,>=2.2->sagemaker->-r requirements.txt (line 1)) (4.9.3)\n",
      "Requirement already satisfied: six>=1.5 in /Users/jingswu/Desktop/code-lab/sample-character-consistent-storyboard/jupyter-notebook/lib/python3.13/site-packages (from python-dateutil>=2.7->matplotlib>=3.10.3->-r requirements.txt (line 7)) (1.17.0)\n",
      "Requirement already satisfied: pydantic<3.0.0,>=2.0.0 in /Users/jingswu/Desktop/code-lab/sample-character-consistent-storyboard/jupyter-notebook/lib/python3.13/site-packages (from sagemaker-core<2.0.0,>=1.0.17->sagemaker->-r requirements.txt (line 1)) (2.11.4)\n",
      "Requirement already satisfied: rich<15.0.0,>=14.0.0 in /Users/jingswu/Desktop/code-lab/sample-character-consistent-storyboard/jupyter-notebook/lib/python3.13/site-packages (from sagemaker-core<2.0.0,>=1.0.17->sagemaker->-r requirements.txt (line 1)) (14.0.0)\n",
      "Requirement already satisfied: mock<5.0,>4.0 in /Users/jingswu/Desktop/code-lab/sample-character-consistent-storyboard/jupyter-notebook/lib/python3.13/site-packages (from sagemaker-core<2.0.0,>=1.0.17->sagemaker->-r requirements.txt (line 1)) (4.0.3)\n",
      "Requirement already satisfied: jsonschema-specifications>=2023.03.6 in /Users/jingswu/Desktop/code-lab/sample-character-consistent-storyboard/jupyter-notebook/lib/python3.13/site-packages (from jsonschema->sagemaker->-r requirements.txt (line 1)) (2025.4.1)\n",
      "Requirement already satisfied: referencing>=0.28.4 in /Users/jingswu/Desktop/code-lab/sample-character-consistent-storyboard/jupyter-notebook/lib/python3.13/site-packages (from jsonschema->sagemaker->-r requirements.txt (line 1)) (0.36.2)\n",
      "Requirement already satisfied: rpds-py>=0.7.1 in /Users/jingswu/Desktop/code-lab/sample-character-consistent-storyboard/jupyter-notebook/lib/python3.13/site-packages (from jsonschema->sagemaker->-r requirements.txt (line 1)) (0.25.0)\n",
      "Requirement already satisfied: charset-normalizer<4,>=2 in /Users/jingswu/Desktop/code-lab/sample-character-consistent-storyboard/jupyter-notebook/lib/python3.13/site-packages (from requests->sagemaker->-r requirements.txt (line 1)) (3.4.2)\n",
      "Requirement already satisfied: idna<4,>=2.5 in /Users/jingswu/Desktop/code-lab/sample-character-consistent-storyboard/jupyter-notebook/lib/python3.13/site-packages (from requests->sagemaker->-r requirements.txt (line 1)) (3.10)\n",
      "Requirement already satisfied: certifi>=2017.4.17 in /Users/jingswu/Desktop/code-lab/sample-character-consistent-storyboard/jupyter-notebook/lib/python3.13/site-packages (from requests->sagemaker->-r requirements.txt (line 1)) (2025.4.26)\n",
      "Requirement already satisfied: starlette<0.47.0,>=0.40.0 in /Users/jingswu/Desktop/code-lab/sample-character-consistent-storyboard/jupyter-notebook/lib/python3.13/site-packages (from fastapi->sagemaker->-r requirements.txt (line 1)) (0.46.2)\n",
      "Requirement already satisfied: typing-extensions>=4.8.0 in /Users/jingswu/Desktop/code-lab/sample-character-consistent-storyboard/jupyter-notebook/lib/python3.13/site-packages (from fastapi->sagemaker->-r requirements.txt (line 1)) (4.13.2)\n",
      "Requirement already satisfied: pytz>=2020.1 in /Users/jingswu/Desktop/code-lab/sample-character-consistent-storyboard/jupyter-notebook/lib/python3.13/site-packages (from pandas->sagemaker->-r requirements.txt (line 1)) (2025.2)\n",
      "Requirement already satisfied: tzdata>=2022.7 in /Users/jingswu/Desktop/code-lab/sample-character-consistent-storyboard/jupyter-notebook/lib/python3.13/site-packages (from pandas->sagemaker->-r requirements.txt (line 1)) (2025.2)\n",
      "Requirement already satisfied: ppft>=1.7.7 in /Users/jingswu/Desktop/code-lab/sample-character-consistent-storyboard/jupyter-notebook/lib/python3.13/site-packages (from pathos->sagemaker->-r requirements.txt (line 1)) (1.7.7)\n",
      "Requirement already satisfied: dill>=0.4.0 in /Users/jingswu/Desktop/code-lab/sample-character-consistent-storyboard/jupyter-notebook/lib/python3.13/site-packages (from pathos->sagemaker->-r requirements.txt (line 1)) (0.4.0)\n",
      "Requirement already satisfied: pox>=0.3.6 in /Users/jingswu/Desktop/code-lab/sample-character-consistent-storyboard/jupyter-notebook/lib/python3.13/site-packages (from pathos->sagemaker->-r requirements.txt (line 1)) (0.3.6)\n",
      "Requirement already satisfied: multiprocess>=0.70.18 in /Users/jingswu/Desktop/code-lab/sample-character-consistent-storyboard/jupyter-notebook/lib/python3.13/site-packages (from pathos->sagemaker->-r requirements.txt (line 1)) (0.70.18)\n",
      "Requirement already satisfied: click>=7.0 in /Users/jingswu/Desktop/code-lab/sample-character-consistent-storyboard/jupyter-notebook/lib/python3.13/site-packages (from uvicorn->sagemaker->-r requirements.txt (line 1)) (8.2.0)\n",
      "Requirement already satisfied: h11>=0.8 in /Users/jingswu/Desktop/code-lab/sample-character-consistent-storyboard/jupyter-notebook/lib/python3.13/site-packages (from uvicorn->sagemaker->-r requirements.txt (line 1)) (0.16.0)\n",
      "Requirement already satisfied: annotated-types>=0.6.0 in /Users/jingswu/Desktop/code-lab/sample-character-consistent-storyboard/jupyter-notebook/lib/python3.13/site-packages (from pydantic<3.0.0,>=2.0.0->sagemaker-core<2.0.0,>=1.0.17->sagemaker->-r requirements.txt (line 1)) (0.7.0)\n",
      "Requirement already satisfied: pydantic-core==2.33.2 in /Users/jingswu/Desktop/code-lab/sample-character-consistent-storyboard/jupyter-notebook/lib/python3.13/site-packages (from pydantic<3.0.0,>=2.0.0->sagemaker-core<2.0.0,>=1.0.17->sagemaker->-r requirements.txt (line 1)) (2.33.2)\n",
      "Requirement already satisfied: typing-inspection>=0.4.0 in /Users/jingswu/Desktop/code-lab/sample-character-consistent-storyboard/jupyter-notebook/lib/python3.13/site-packages (from pydantic<3.0.0,>=2.0.0->sagemaker-core<2.0.0,>=1.0.17->sagemaker->-r requirements.txt (line 1)) (0.4.0)\n",
      "Requirement already satisfied: markdown-it-py>=2.2.0 in /Users/jingswu/Desktop/code-lab/sample-character-consistent-storyboard/jupyter-notebook/lib/python3.13/site-packages (from rich<15.0.0,>=14.0.0->sagemaker-core<2.0.0,>=1.0.17->sagemaker->-r requirements.txt (line 1)) (3.0.0)\n",
      "Requirement already satisfied: pygments<3.0.0,>=2.13.0 in /Users/jingswu/Desktop/code-lab/sample-character-consistent-storyboard/jupyter-notebook/lib/python3.13/site-packages (from rich<15.0.0,>=14.0.0->sagemaker-core<2.0.0,>=1.0.17->sagemaker->-r requirements.txt (line 1)) (2.19.1)\n",
      "Requirement already satisfied: anyio<5,>=3.6.2 in /Users/jingswu/Desktop/code-lab/sample-character-consistent-storyboard/jupyter-notebook/lib/python3.13/site-packages (from starlette<0.47.0,>=0.40.0->fastapi->sagemaker->-r requirements.txt (line 1)) (4.9.0)\n",
      "Requirement already satisfied: sniffio>=1.1 in /Users/jingswu/Desktop/code-lab/sample-character-consistent-storyboard/jupyter-notebook/lib/python3.13/site-packages (from anyio<5,>=3.6.2->starlette<0.47.0,>=0.40.0->fastapi->sagemaker->-r requirements.txt (line 1)) (1.3.1)\n",
      "Requirement already satisfied: mdurl~=0.1 in /Users/jingswu/Desktop/code-lab/sample-character-consistent-storyboard/jupyter-notebook/lib/python3.13/site-packages (from markdown-it-py>=2.2.0->rich<15.0.0,>=14.0.0->sagemaker-core<2.0.0,>=1.0.17->sagemaker->-r requirements.txt (line 1)) (0.1.2)\n",
      "\n",
      "\u001b[1m[\u001b[0m\u001b[34;49mnotice\u001b[0m\u001b[1;39;49m]\u001b[0m\u001b[39;49m A new release of pip is available: \u001b[0m\u001b[31;49m25.0.1\u001b[0m\u001b[39;49m -> \u001b[0m\u001b[32;49m25.1.1\u001b[0m\n",
      "\u001b[1m[\u001b[0m\u001b[34;49mnotice\u001b[0m\u001b[1;39;49m]\u001b[0m\u001b[39;49m To update, run: \u001b[0m\u001b[32;49mpip install --upgrade pip\u001b[0m\n"
     ]
    }
   ],
   "source": [
    "!pip install -r requirements.txt"
   ]
  },
  {
   "cell_type": "markdown",
   "id": "75ea8b04-2042-4590-b25a-53682f530f53",
   "metadata": {},
   "source": [
    "### Initialize\n",
    "\n",
    "Now we'll set up our AWS environment by initializing the necessary clients and defining key variables. This includes:\n",
    "- Setting up boto3 clients for Bedrock, S3, IAM, and STS\n",
    "- Defining our S3 bucket and prefix for storing training data\n",
    "- Setting the base model ID for fine-tuning\n",
    "- Creating a directory for our training images"
   ]
  },
  {
   "cell_type": "code",
   "execution_count": 3,
   "id": "fba58e94-1fc4-40c5-bf1e-80270f883929",
   "metadata": {
    "scrolled": true
   },
   "outputs": [
    {
     "name": "stdout",
     "output_type": "stream",
     "text": [
      "sagemaker.config INFO - Not applying SDK defaults from location: /Library/Application Support/sagemaker/config.yaml\n",
      "sagemaker.config INFO - Not applying SDK defaults from location: /Users/jingswu/Library/Application Support/sagemaker/config.yaml\n"
     ]
    }
   ],
   "source": [
    "import boto3\n",
    "import sagemaker\n",
    "from sagemaker.utils import name_from_base\n",
    "import time\n",
    "import json\n",
    "from image_processing import process_folders, upload_to_s3\n",
    "import os\n",
    "import shutil\n",
    "\n",
    "region = \"us-east-1\"\n",
    "boto_session = boto3.Session(region_name=region)\n",
    "sess = sagemaker.Session(boto_session=boto_session)\n",
    "\n",
    "if sess.default_bucket(): \n",
    "    bucket = sess.default_bucket()\n",
    "else:\n",
    "    bucket = \"XXXXXXXXXXXXX\" # Use your own\n",
    "\n",
    "prefix = \"picchu-canvas/images\"\n",
    "\n",
    "\n",
    "# Initialize Boto3 Clients\n",
    "bedrock = boto_session.client('bedrock')\n",
    "bedrock_runtime = boto_session.client('bedrock-runtime')\n",
    "s3 = boto_session.client('s3')\n",
    "iam_client = boto_session.client('iam')\n",
    "sts_client = boto_session.client('sts')\n",
    "\n",
    "# Account and region info\n",
    "account_id = sts_client.get_caller_identity()[\"Account\"]\n",
    "\n",
    "# Base model id for fine-tuning\n",
    "model_id = 'amazon.nova-canvas-v1:0'\n",
    "\n",
    "image_dir = \"picchu_images\""
   ]
  },
  {
   "cell_type": "markdown",
   "id": "02a31da6-6005-4144-b5a7-09715d7af103",
   "metadata": {},
   "source": [
    "### Prepare Local Directory\n",
    "\n",
    "We'll create a clean directory to store our training images. If the directory already exists, we'll remove it and create a fresh one to avoid any conflicts with previous files."
   ]
  },
  {
   "cell_type": "code",
   "execution_count": 4,
   "id": "02a31da6-6005-4144-b5a7-09715d7af104",
   "metadata": {},
   "outputs": [],
   "source": [
    "def create_or_replace_folder(folder_path):\n",
    "    if os.path.exists(folder_path):\n",
    "        shutil.rmtree(folder_path)  # Remove the existing folder and its contents\n",
    "    os.makedirs(folder_path)         # Create a new, empty folder\n",
    "\n",
    "create_or_replace_folder(image_dir)"
   ]
  },
  {
   "cell_type": "markdown",
   "id": "73913c20-a6a9-438d-980b-aae423413e5f",
   "metadata": {},
   "source": [
    "## Download images\n",
    "\n",
    "In this step, we'll download a pre-prepared set of images from the \\\"Picchu\\\" animated short film. These images will serve as our training data for fine-tuning the Nova Canvas model to consistently generate the main character Mayu and her mom.\n",
    "  "
   ]
  },
  {
   "cell_type": "code",
   "execution_count": 5,
   "id": "f3c58b1c-c82b-4089-bf0f-f93124030aa0",
   "metadata": {},
   "outputs": [
    {
     "name": "stdout",
     "output_type": "stream",
     "text": [
      "--2025-07-25 18:57:59--  https://ws-assets-prod-iad-r-iad-ed304a55c2ca1aee.s3.us-east-1.amazonaws.com/3c3519c9-93dc-404d-87f7-4d9bde05f265/picchu_images.zip\n",
      "Resolving ws-assets-prod-iad-r-iad-ed304a55c2ca1aee.s3.us-east-1.amazonaws.com (ws-assets-prod-iad-r-iad-ed304a55c2ca1aee.s3.us-east-1.amazonaws.com)... 16.15.216.24, 3.5.19.54, 52.216.38.34, ...\n",
      "Connecting to ws-assets-prod-iad-r-iad-ed304a55c2ca1aee.s3.us-east-1.amazonaws.com (ws-assets-prod-iad-r-iad-ed304a55c2ca1aee.s3.us-east-1.amazonaws.com)|16.15.216.24|:443... connected.\n",
      "HTTP request sent, awaiting response... 200 OK\n",
      "Length: 40026264 (38M) [application/zip]\n",
      "Saving to: ‘picchu_images.zip.1’\n",
      "\n",
      "picchu_images.zip.1 100%[===================>]  38.17M  6.18MB/s    in 6.0s    \n",
      "\n",
      "2025-07-25 18:58:06 (6.34 MB/s) - ‘picchu_images.zip.1’ saved [40026264/40026264]\n",
      "\n",
      "Archive:  picchu_images.zip\n",
      "  inflating: __MACOSX/._picchu_images  \n",
      "  inflating: picchu_images/image_15.jpg  \n",
      "  inflating: __MACOSX/picchu_images/._image_15.jpg  \n",
      "  inflating: picchu_images/image_29.jpg  \n",
      "  inflating: __MACOSX/picchu_images/._image_29.jpg  \n",
      "  inflating: picchu_images/image_28.jpg  \n",
      "  inflating: __MACOSX/picchu_images/._image_28.jpg  \n",
      "  inflating: picchu_images/image_14.jpg  \n",
      "  inflating: __MACOSX/picchu_images/._image_14.jpg  \n",
      "  inflating: picchu_images/image_16.jpg  \n",
      "  inflating: __MACOSX/picchu_images/._image_16.jpg  \n",
      "  inflating: picchu_images/image_17.jpg  \n",
      "  inflating: __MACOSX/picchu_images/._image_17.jpg  \n",
      "  inflating: picchu_images/image_13.jpg  \n",
      "  inflating: __MACOSX/picchu_images/._image_13.jpg  \n",
      "  inflating: picchu_images/image_12.jpg  \n",
      "  inflating: __MACOSX/picchu_images/._image_12.jpg  \n",
      "  inflating: picchu_images/image_38.jpg  \n",
      "  inflating: __MACOSX/picchu_images/._image_38.jpg  \n",
      "  inflating: picchu_images/image_10.jpg  \n",
      "  inflating: __MACOSX/picchu_images/._image_10.jpg  \n",
      "  inflating: picchu_images/image_11.jpg  \n",
      "  inflating: __MACOSX/picchu_images/._image_11.jpg  \n",
      "  inflating: picchu_images/image_39.jpg  \n",
      "  inflating: __MACOSX/picchu_images/._image_39.jpg  \n",
      "  inflating: picchu_images/image_76.jpg  \n",
      "  inflating: __MACOSX/picchu_images/._image_76.jpg  \n",
      "  inflating: picchu_images/image_62.jpg  \n",
      "  inflating: __MACOSX/picchu_images/._image_62.jpg  \n",
      "  inflating: picchu_images/image_89.jpg  \n",
      "  inflating: __MACOSX/picchu_images/._image_89.jpg  \n",
      "  inflating: picchu_images/image_88.jpg  \n",
      "  inflating: __MACOSX/picchu_images/._image_88.jpg  \n",
      "  inflating: picchu_images/image_63.jpg  \n",
      "  inflating: __MACOSX/picchu_images/._image_63.jpg  \n",
      "  inflating: picchu_images/image_77.jpg  \n",
      "  inflating: __MACOSX/picchu_images/._image_77.jpg  \n",
      "  inflating: picchu_images/image_61.jpg  \n",
      "  inflating: __MACOSX/picchu_images/._image_61.jpg  \n",
      "  inflating: picchu_images/image_75.jpg  \n",
      "  inflating: __MACOSX/picchu_images/._image_75.jpg  \n",
      "  inflating: picchu_images/image_8.jpg  \n",
      "  inflating: __MACOSX/picchu_images/._image_8.jpg  \n",
      "  inflating: picchu_images/image_49.jpg  \n",
      "  inflating: __MACOSX/picchu_images/._image_49.jpg  \n",
      "  inflating: picchu_images/image_48.jpg  \n",
      "  inflating: __MACOSX/picchu_images/._image_48.jpg  \n",
      "  inflating: picchu_images/image_9.jpg  \n",
      "  inflating: __MACOSX/picchu_images/._image_9.jpg  \n",
      "  inflating: picchu_images/image_74.jpg  \n",
      "  inflating: __MACOSX/picchu_images/._image_74.jpg  \n",
      "  inflating: picchu_images/image_60.jpg  \n",
      "  inflating: __MACOSX/picchu_images/._image_60.jpg  \n",
      "  inflating: picchu_images/image_109.jpg  \n",
      "  inflating: __MACOSX/picchu_images/._image_109.jpg  \n",
      "  inflating: picchu_images/image_58.jpg  \n",
      "  inflating: __MACOSX/picchu_images/._image_58.jpg  \n",
      "  inflating: picchu_images/image_64.jpg  \n",
      "  inflating: __MACOSX/picchu_images/._image_64.jpg  \n",
      "  inflating: picchu_images/image_70.jpg  \n",
      "  inflating: __MACOSX/picchu_images/._image_70.jpg  \n",
      "  inflating: picchu_images/image_71.jpg  \n",
      "  inflating: __MACOSX/picchu_images/._image_71.jpg  \n",
      "  inflating: picchu_images/image_65.jpg  \n",
      "  inflating: __MACOSX/picchu_images/._image_65.jpg  \n",
      "  inflating: picchu_images/image_59.jpg  \n",
      "  inflating: __MACOSX/picchu_images/._image_59.jpg  \n",
      "  inflating: picchu_images/image_108.jpg  \n",
      "  inflating: __MACOSX/picchu_images/._image_108.jpg  \n",
      "  inflating: picchu_images/image_73.jpg  \n",
      "  inflating: __MACOSX/picchu_images/._image_73.jpg  \n",
      "  inflating: picchu_images/image_67.jpg  \n",
      "  inflating: __MACOSX/picchu_images/._image_67.jpg  \n",
      "  inflating: picchu_images/image_98.jpg  \n",
      "  inflating: __MACOSX/picchu_images/._image_98.jpg  \n",
      "  inflating: picchu_images/image_99.jpg  \n",
      "  inflating: __MACOSX/picchu_images/._image_99.jpg  \n",
      "  inflating: picchu_images/image_66.jpg  \n",
      "  inflating: __MACOSX/picchu_images/._image_66.jpg  \n",
      "  inflating: picchu_images/image_72.jpg  \n",
      "  inflating: __MACOSX/picchu_images/._image_72.jpg  \n",
      "  inflating: picchu_images/image_112.jpg  \n",
      "  inflating: __MACOSX/picchu_images/._image_112.jpg  \n",
      "  inflating: picchu_images/image_106.jpg  \n",
      "  inflating: __MACOSX/picchu_images/._image_106.jpg  \n",
      "  inflating: picchu_images/image_57.jpg  \n",
      "  inflating: __MACOSX/picchu_images/._image_57.jpg  \n",
      "  inflating: picchu_images/image_2.jpg  \n",
      "  inflating: __MACOSX/picchu_images/._image_2.jpg  \n",
      "  inflating: picchu_images/image_43.jpg  \n",
      "  inflating: __MACOSX/picchu_images/._image_43.jpg  \n",
      "  inflating: picchu_images/image_94.jpg  \n",
      "  inflating: __MACOSX/picchu_images/._image_94.jpg  \n",
      "  inflating: picchu_images/image_80.jpg  \n",
      "  inflating: __MACOSX/picchu_images/._image_80.jpg  \n",
      "  inflating: picchu_images/image_81.jpg  \n",
      "  inflating: __MACOSX/picchu_images/._image_81.jpg  \n",
      "  inflating: picchu_images/image_95.jpg  \n",
      "  inflating: __MACOSX/picchu_images/._image_95.jpg  \n",
      "  inflating: picchu_images/image_42.jpg  \n",
      "  inflating: __MACOSX/picchu_images/._image_42.jpg  \n",
      "  inflating: picchu_images/image_data.jsonl  \n",
      "  inflating: __MACOSX/picchu_images/._image_data.jsonl  \n",
      "  inflating: picchu_images/image_56.jpg  \n",
      "  inflating: __MACOSX/picchu_images/._image_56.jpg  \n",
      "  inflating: picchu_images/image_3.jpg  \n",
      "  inflating: __MACOSX/picchu_images/._image_3.jpg  \n",
      "  inflating: picchu_images/image_107.jpg  \n",
      "  inflating: __MACOSX/picchu_images/._image_107.jpg  \n",
      "  inflating: picchu_images/image_113.jpg  \n",
      "  inflating: __MACOSX/picchu_images/._image_113.jpg  \n",
      "  inflating: picchu_images/image_105.jpg  \n",
      "  inflating: __MACOSX/picchu_images/._image_105.jpg  \n",
      "  inflating: picchu_images/image_111.jpg  \n",
      "  inflating: __MACOSX/picchu_images/._image_111.jpg  \n",
      "  inflating: picchu_images/image_40.jpg  \n",
      "  inflating: __MACOSX/picchu_images/._image_40.jpg  \n",
      "  inflating: picchu_images/image_1.jpg  \n",
      "  inflating: __MACOSX/picchu_images/._image_1.jpg  \n",
      "  inflating: picchu_images/image_54.jpg  \n",
      "  inflating: __MACOSX/picchu_images/._image_54.jpg  \n",
      "  inflating: picchu_images/image_68.jpg  \n",
      "  inflating: __MACOSX/picchu_images/._image_68.jpg  \n",
      "  inflating: picchu_images/image_83.jpg  \n",
      "  inflating: __MACOSX/picchu_images/._image_83.jpg  \n",
      "  inflating: picchu_images/image_97.jpg  \n",
      "  inflating: __MACOSX/picchu_images/._image_97.jpg  \n",
      "  inflating: picchu_images/image_96.jpg  \n",
      "  inflating: __MACOSX/picchu_images/._image_96.jpg  \n",
      "  inflating: picchu_images/image_82.jpg  \n",
      "  inflating: __MACOSX/picchu_images/._image_82.jpg  \n",
      "  inflating: picchu_images/image_69.jpg  \n",
      "  inflating: __MACOSX/picchu_images/._image_69.jpg  \n",
      "  inflating: picchu_images/image_55.jpg  \n",
      "  inflating: __MACOSX/picchu_images/._image_55.jpg  \n",
      "  inflating: picchu_images/image_41.jpg  \n",
      "  inflating: __MACOSX/picchu_images/._image_41.jpg  \n",
      "  inflating: picchu_images/image_110.jpg  \n",
      "  inflating: __MACOSX/picchu_images/._image_110.jpg  \n",
      "  inflating: picchu_images/image_104.jpg  \n",
      "  inflating: __MACOSX/picchu_images/._image_104.jpg  \n",
      "  inflating: picchu_images/image_100.jpg  \n",
      "  inflating: __MACOSX/picchu_images/._image_100.jpg  \n",
      "  inflating: picchu_images/image_114.jpg  \n",
      "  inflating: __MACOSX/picchu_images/._image_114.jpg  \n",
      "  inflating: picchu_images/image_79.jpg  \n",
      "  inflating: __MACOSX/picchu_images/._image_79.jpg  \n",
      "  inflating: picchu_images/image_45.jpg  \n",
      "  inflating: __MACOSX/picchu_images/._image_45.jpg  \n",
      "  inflating: picchu_images/image_51.jpg  \n",
      "  inflating: __MACOSX/picchu_images/._image_51.jpg  \n",
      "  inflating: picchu_images/image_4.jpg  \n",
      "  inflating: __MACOSX/picchu_images/._image_4.jpg  \n",
      "  inflating: picchu_images/image_86.jpg  \n",
      "  inflating: __MACOSX/picchu_images/._image_86.jpg  \n",
      "  inflating: picchu_images/image_92.jpg  \n",
      "  inflating: __MACOSX/picchu_images/._image_92.jpg  \n",
      "  inflating: picchu_images/image_93.jpg  \n",
      "  inflating: __MACOSX/picchu_images/._image_93.jpg  \n",
      "  inflating: picchu_images/image_87.jpg  \n",
      "  inflating: __MACOSX/picchu_images/._image_87.jpg  \n",
      "  inflating: picchu_images/image_50.jpg  \n",
      "  inflating: __MACOSX/picchu_images/._image_50.jpg  \n",
      "  inflating: picchu_images/image_5.jpg  \n",
      "  inflating: __MACOSX/picchu_images/._image_5.jpg  \n",
      "  inflating: picchu_images/image_44.jpg  \n",
      "  inflating: __MACOSX/picchu_images/._image_44.jpg  \n",
      "  inflating: picchu_images/image_78.jpg  \n",
      "  inflating: __MACOSX/picchu_images/._image_78.jpg  \n",
      "  inflating: picchu_images/image_101.jpg  \n",
      "  inflating: __MACOSX/picchu_images/._image_101.jpg  \n",
      "  inflating: picchu_images/image_103.jpg  \n",
      "  inflating: __MACOSX/picchu_images/._image_103.jpg  \n",
      "  inflating: picchu_images/image_7.jpg  \n",
      "  inflating: __MACOSX/picchu_images/._image_7.jpg  \n",
      "  inflating: picchu_images/image_52.jpg  \n",
      "  inflating: __MACOSX/picchu_images/._image_52.jpg  \n",
      "  inflating: picchu_images/image_46.jpg  \n",
      "  inflating: __MACOSX/picchu_images/._image_46.jpg  \n",
      "  inflating: picchu_images/image_91.jpg  \n",
      "  inflating: __MACOSX/picchu_images/._image_91.jpg  \n",
      "  inflating: picchu_images/image_85.jpg  \n",
      "  inflating: __MACOSX/picchu_images/._image_85.jpg  \n",
      "  inflating: picchu_images/image_84.jpg  \n",
      "  inflating: __MACOSX/picchu_images/._image_84.jpg  \n",
      "  inflating: picchu_images/image_90.jpg  \n",
      "  inflating: __MACOSX/picchu_images/._image_90.jpg  \n",
      "  inflating: picchu_images/image_47.jpg  \n",
      "  inflating: __MACOSX/picchu_images/._image_47.jpg  \n",
      "  inflating: picchu_images/image_6.jpg  \n",
      "  inflating: __MACOSX/picchu_images/._image_6.jpg  \n",
      "  inflating: picchu_images/image_53.jpg  \n",
      "  inflating: __MACOSX/picchu_images/._image_53.jpg  \n",
      "  inflating: picchu_images/image_102.jpg  \n",
      "  inflating: __MACOSX/picchu_images/._image_102.jpg  \n",
      "  inflating: picchu_images/image_34.jpg  \n",
      "  inflating: __MACOSX/picchu_images/._image_34.jpg  \n",
      "  inflating: picchu_images/image_20.jpg  \n",
      "  inflating: __MACOSX/picchu_images/._image_20.jpg  \n",
      "  inflating: picchu_images/image_21.jpg  \n",
      "  inflating: __MACOSX/picchu_images/._image_21.jpg  \n",
      "  inflating: picchu_images/image_35.jpg  \n",
      "  inflating: __MACOSX/picchu_images/._image_35.jpg  \n",
      "  inflating: picchu_images/image_23.jpg  \n",
      "  inflating: __MACOSX/picchu_images/._image_23.jpg  \n",
      "  inflating: picchu_images/image_37.jpg  \n",
      "  inflating: __MACOSX/picchu_images/._image_37.jpg  \n",
      "  inflating: picchu_images/image_36.jpg  \n",
      "  inflating: __MACOSX/picchu_images/._image_36.jpg  \n",
      "  inflating: picchu_images/image_22.jpg  \n",
      "  inflating: __MACOSX/picchu_images/._image_22.jpg  \n",
      "  inflating: picchu_images/image_26.jpg  \n",
      "  inflating: __MACOSX/picchu_images/._image_26.jpg  \n",
      "  inflating: picchu_images/image_32.jpg  \n",
      "  inflating: __MACOSX/picchu_images/._image_32.jpg  \n",
      "  inflating: picchu_images/image_33.jpg  \n",
      "  inflating: __MACOSX/picchu_images/._image_33.jpg  \n",
      "  inflating: picchu_images/image_27.jpg  \n",
      "  inflating: __MACOSX/picchu_images/._image_27.jpg  \n",
      "  inflating: picchu_images/image_19.jpg  \n",
      "  inflating: __MACOSX/picchu_images/._image_19.jpg  \n",
      "  inflating: picchu_images/image_31.jpg  \n",
      "  inflating: __MACOSX/picchu_images/._image_31.jpg  \n",
      "  inflating: picchu_images/image_25.jpg  \n",
      "  inflating: __MACOSX/picchu_images/._image_25.jpg  \n",
      "  inflating: picchu_images/image_24.jpg  \n",
      "  inflating: __MACOSX/picchu_images/._image_24.jpg  \n",
      "  inflating: picchu_images/image_30.jpg  \n",
      "  inflating: __MACOSX/picchu_images/._image_30.jpg  \n",
      "  inflating: picchu_images/image_18.jpg  \n",
      "  inflating: __MACOSX/picchu_images/._image_18.jpg  \n"
     ]
    }
   ],
   "source": [
    "!wget --no-check-certificate https://ws-assets-prod-iad-r-iad-ed304a55c2ca1aee.s3.us-east-1.amazonaws.com/3c3519c9-93dc-404d-87f7-4d9bde05f265/picchu_images.zip\n",
    "\n",
    "!unzip picchu_images.zip"
   ]
  },
  {
   "cell_type": "markdown",
   "id": "ac7f2681-aa0e-4b9c-8d20-3f973d6c90f1",
   "metadata": {},
   "source": [
    "### Prepare the images for fine tuning\n",
    "\n",
    "Now we'll process the downloaded images and prepare them for fine-tuning. This function will:\n",
    "1. Upload the images to our S3 bucket\n",
    "2. Generate a manifest file that pairs each image with a descriptive caption\n",
    "3. The manifest file follows the required format for Amazon Nova Canvas fine-tuning\n",
    "\n",
    "For more information on manifest file requirements, see the [Amazon Bedrock documentation on fine-tuning](https://docs.aws.amazon.com/bedrock/latest/userguide/custom-models.html).\n",
    "   "
   ]
  },
  {
   "cell_type": "markdown",
   "id": "c2a5e237-44a0-47e5-936d-8595ab3bdfb4",
   "metadata": {},
   "source": [
    "### Process the downloaded images\n",
    "\n",
    "Now we'll process the images from the downloaded zip file. The `process_folders` function will:\n",
    "1. Extract images from the specified directories\n",
    "2. Generate appropriate captions for each image\n",
    "3. Upload the images to S3 and prepare the data structure for our manifest file\n",
    "\n",
    "This step is crucial for preparing our training data in the format required by Amazon Nova Canvas."
   ]
  },
  {
   "cell_type": "code",
   "execution_count": 6,
   "id": "49e72237-44a0-47e5-936d-8595ab3bdfb4",
   "metadata": {
    "scrolled": true
   },
   "outputs": [
    {
     "name": "stderr",
     "output_type": "stream",
     "text": [
      "Processing folders:   0%|          | 0/1 [00:00<?, ?it/s]"
     ]
    },
    {
     "name": "stderr",
     "output_type": "stream",
     "text": [
      "Processing folders: 100%|██████████| 1/1 [00:04<00:00,  4.13s/it]\n",
      "Uploading images:  99%|█████████▉| 113/114 [00:04<00:00, 27.38it/s]\n"
     ]
    }
   ],
   "source": [
    "updated_data = process_folders([image_dir], bucket, prefix)"
   ]
  },
  {
   "cell_type": "code",
   "execution_count": 7,
   "id": "aee483e6-e5e2-4bcd-b9df-224c7790b28b",
   "metadata": {
    "scrolled": true
   },
   "outputs": [
    {
     "name": "stdout",
     "output_type": "stream",
     "text": [
      "picchu_manifest.jsonl processed completed!\n"
     ]
    }
   ],
   "source": [
    "output_file = f'{prefix.split('-')[0]}_manifest.jsonl'\n",
    "with open(output_file, 'w') as f:\n",
    "    for item in updated_data:\n",
    "        item_filtered = {d:item[d] for d in item if d != 'id'}\n",
    "        f.write(json.dumps(item_filtered) + '\\n')\n",
    "print(f\"{output_file} processed completed!\")"
   ]
  },
  {
   "cell_type": "markdown",
   "id": "1fc1a2f5-bd0a-4e28-b15d-895a35e925c6",
   "metadata": {},
   "source": [
    "### Preview the manifest file\n",
    "\n",
    "Let's examine the first few entries of our manifest file to understand its structure. Each line contains a JSON object with:\n",
    "- `image-ref`: The S3 path to the image\n",
    "- `caption`: A detailed description of the image that helps the model learn the character's appearance and style"
   ]
  },
  {
   "cell_type": "code",
   "execution_count": 8,
   "id": "d5bdf628-e8cb-4d19-b6f6-1fd06ef17f17",
   "metadata": {},
   "outputs": [
    {
     "name": "stdout",
     "output_type": "stream",
     "text": [
      "{\"image-ref\": \"s3://sagemaker-us-east-1-376678947624/picchu-canvas/images/image_1.jpg\", \"caption\": \"Mayu smiles warmly while drawing at her desk, with a colorful dollhouse glowing in the background.\"}\n",
      "{\"image-ref\": \"s3://sagemaker-us-east-1-376678947624/picchu-canvas/images/image_2.jpg\", \"caption\": \"Close-up of Mayu with wide-eyed, astonished expression bathed in dramatic reddish lighting.\"}\n",
      "{\"image-ref\": \"s3://sagemaker-us-east-1-376678947624/picchu-canvas/images/image_3.jpg\", \"caption\": \"Mayu smiles warmly while drawing beside a glowing green miniature house in soft lighting.\"}\n",
      "{\"image-ref\": \"s3://sagemaker-us-east-1-376678947624/picchu-canvas/images/image_4.jpg\", \"caption\": \"Mayu concentrates on her drawing, bathed in warm reddish light at her wooden desk.\"}\n",
      "{\"image-ref\": \"s3://sagemaker-us-east-1-376678947624/picchu-canvas/images/image_5.jpg\", \"caption\": \"Mayu beams with a bright smile, her braids framing her face against a dark background\"}\n"
     ]
    }
   ],
   "source": [
    "!head -n 5 {output_file}"
   ]
  },
  {
   "cell_type": "markdown",
   "id": "4308de78-396d-46d9-a409-d72ef1b322f3",
   "metadata": {},
   "source": [
    "### Upload manifest to S3\n",
    "\n",
    "Now we'll upload our manifest file to S3. This file will be used by the fine-tuning job to locate and process our training images along with their captions.\n",
    "   "
   ]
  },
  {
   "cell_type": "code",
   "execution_count": 9,
   "id": "c1a69b73-c636-471d-865b-768a1cf90072",
   "metadata": {},
   "outputs": [
    {
     "data": {
      "text/plain": [
       "'s3://sagemaker-us-east-1-376678947624/picchu-canvas/manifests/picchu_manifest.jsonl'"
      ]
     },
     "execution_count": 9,
     "metadata": {},
     "output_type": "execute_result"
    }
   ],
   "source": [
    "training_path = upload_to_s3(output_file, bucket, prefix.replace(\"images\", \"manifests\"))\n",
    "training_path"
   ]
  },
  {
   "cell_type": "markdown",
   "id": "993b4130-f651-46de-a948-91b94e209447",
   "metadata": {},
   "source": [
    "## Train Custom Model Using Bedrock\n",
    "\n",
    "Now we'll begin the process of fine-tuning the Amazon Nova Canvas model using our prepared training data. This involves several steps:\n",
    "1. Creating the necessary IAM roles and policies\n",
    "2. Configuring the fine-tuning job parameters\n",
    "3. Submitting the job to Amazon Bedrock\n",
    "4. Monitoring the job progress"
   ]
  },
  {
   "cell_type": "markdown",
   "id": "494d704e-562c-4bfd-a7e9-752a2ab34d5d",
   "metadata": {},
   "source": [
    "### Fine tune job preparation - Creating role and policies requirements\n",
    "\n",
    "We will now prepare the necessary IAM role for the fine-tune job. This includes creating the policies required to run customization jobs with Amazon Bedrock.\n",
    "\n",
    "### Create Trust relationship\n",
    "This JSON object defines the trust relationship that allows the Bedrock service to assume a role that will give it the ability to interact with other required AWS services. The conditions set restrict the assumption of the role to a specific account ID and a specific component of the Bedrock service (model_customization_jobs).\n",
    "  "
   ]
  },
  {
   "cell_type": "code",
   "execution_count": 10,
   "id": "0c21cd89-b456-45a0-9b5a-6c7891a52ab8",
   "metadata": {},
   "outputs": [],
   "source": [
    "# This JSON object defines the trust relationship that allows the bedrock service to assume a role that will give it the ability to talk to other required AWS services. The conditions set restrict the assumption of the role to a specfic account ID and a specific component of the bedrock service (model_customization_jobs)\n",
    "ROLE_DOC = f\"\"\"{{\n",
    "    \"Version\": \"2012-10-17\",\n",
    "    \"Statement\": [\n",
    "        {{\n",
    "            \"Effect\": \"Allow\",\n",
    "            \"Principal\": {{\n",
    "                \"Service\": \"bedrock.amazonaws.com\"\n",
    "            }},\n",
    "            \"Action\": \"sts:AssumeRole\",\n",
    "            \"Condition\": {{\n",
    "                \"StringEquals\": {{\n",
    "                    \"aws:SourceAccount\": \"{account_id}\"\n",
    "                }},\n",
    "                \"ArnEquals\": {{\n",
    "                    \"aws:SourceArn\": \"arn:aws:bedrock:{region}:{account_id}:model-customization-job/*\"\n",
    "                }}\n",
    "            }}\n",
    "        }}\n",
    "    ]\n",
    "}}\n",
    "\"\"\""
   ]
  },
  {
   "cell_type": "markdown",
   "id": "ab9bfe6e-6329-499e-aa56-4b363584347f",
   "metadata": {},
   "source": [
    "### Create S3 access policy\n",
    "\n",
    "This JSON object defines the permissions of the role we want bedrock to assume to allow access to the S3 bucket that we created that will hold our fine-tuning datasets and allow certain bucket and object manipulations."
   ]
  },
  {
   "cell_type": "code",
   "execution_count": 11,
   "id": "01110bb2-7844-488b-a2dd-36e82bccb307",
   "metadata": {},
   "outputs": [],
   "source": [
    "ACCESS_POLICY_DOC = f\"\"\"{{\n",
    "    \"Version\": \"2012-10-17\",\n",
    "    \"Statement\": [\n",
    "        {{\n",
    "            \"Effect\": \"Allow\",\n",
    "            \"Action\": [\n",
    "                \"s3:AbortMultipartUpload\",\n",
    "                \"s3:DeleteObject\",\n",
    "                \"s3:PutObject\",\n",
    "                \"s3:GetObject\",\n",
    "                \"s3:GetBucketAcl\",\n",
    "                \"s3:GetBucketNotification\",\n",
    "                \"s3:ListBucket\",\n",
    "                \"s3:PutBucketNotification\"\n",
    "            ],\n",
    "            \"Resource\": [\n",
    "                \"arn:aws:s3:::{bucket}\",\n",
    "                \"arn:aws:s3:::{bucket}/*\"\n",
    "            ]\n",
    "        }}\n",
    "    ]\n",
    "}}\"\"\""
   ]
  },
  {
   "cell_type": "markdown",
   "id": "0bde13dd-5681-4faf-9c94-bce11f40a367",
   "metadata": {},
   "source": [
    "### Create IAM role and attach policies\n",
    "\n",
    "Let's now create the IAM role with the created trust policy and attach the s3 policy to it"
   ]
  },
  {
   "cell_type": "code",
   "execution_count": 12,
   "id": "face3f85-169e-4ba3-a714-f6e4c58d142d",
   "metadata": {},
   "outputs": [],
   "source": [
    "role_name = name_from_base(f\"FineTuning-{prefix.split('/')[-1]}\")\n",
    "s3_bedrock_ft_access_policy = f\"{role_name}-policy\""
   ]
  },
  {
   "cell_type": "code",
   "execution_count": 13,
   "id": "60bc68b7-8c9d-4d8a-bc62-ecea1d343988",
   "metadata": {},
   "outputs": [],
   "source": [
    "response = iam_client.create_role(\n",
    "    RoleName=role_name,\n",
    "    AssumeRolePolicyDocument=ROLE_DOC,\n",
    "    Description=\"Role for Bedrock to access S3 for finetuning\",\n",
    ")"
   ]
  },
  {
   "cell_type": "code",
   "execution_count": 14,
   "id": "3e2752b9-9a91-477a-8942-09fbae063a02",
   "metadata": {},
   "outputs": [],
   "source": [
    "role_arn = response[\"Role\"][\"Arn\"]\n",
    "response = iam_client.create_policy(\n",
    "    PolicyName=s3_bedrock_ft_access_policy,\n",
    "    PolicyDocument=ACCESS_POLICY_DOC,\n",
    ")\n",
    "policy_arn = response[\"Policy\"][\"Arn\"]\n",
    "iam_client.attach_role_policy(\n",
    "    RoleName=role_name,\n",
    "    PolicyArn=policy_arn,\n",
    ")\n",
    "time.sleep(30)"
   ]
  },
  {
   "cell_type": "markdown",
   "id": "6d526c16-3c10-47f9-b6e8-afecb6442ad5",
   "metadata": {},
   "source": [
    "### Create a Customization Job\n",
    "\n",
    "Now that we have all the requirements in place, let's create the fine-tuning job with the Titan Image Generator model.\n",
    "\n",
    "To do so, we need to set the model **hyperparameters** for `stepCount`, `batchSize` and `learningRate` and provide the path to your training data"
   ]
  },
  {
   "cell_type": "code",
   "execution_count": 15,
   "id": "a4c5a09e-08c8-44ae-a6d5-d4013e4ede7b",
   "metadata": {},
   "outputs": [
    {
     "name": "stdout",
     "output_type": "stream",
     "text": [
      "arn:aws:bedrock:us-east-1:376678947624:model-customization-job/amazon.nova-canvas-v1:0/uw87mekhrkv0\n"
     ]
    }
   ],
   "source": [
    "# Set parameters\n",
    "model_name =  f\"{prefix.split('/')[0]}-v0\"\n",
    "roleArn = role_arn\n",
    "jobName = name_from_base(model_name)\n",
    "customModelName = jobName\n",
    "hyperParameters = {\n",
    "        \"stepCount\": \"14000\",\n",
    "        \"batchSize\": \"64\",\n",
    "        \"learningRate\": \"0.000001\",\n",
    "    }\n",
    "trainingDataConfig = {\"s3Uri\": training_path}\n",
    "outputDataConfig = {\"s3Uri\": f\"s3://{bucket}/{prefix}\"}\n",
    "\n",
    "# Create job\n",
    "response_ft = bedrock.create_model_customization_job(\n",
    "    jobName=jobName,\n",
    "    customModelName=customModelName,\n",
    "    roleArn=roleArn,\n",
    "    baseModelIdentifier=model_id,\n",
    "    hyperParameters=hyperParameters,\n",
    "    trainingDataConfig=trainingDataConfig,\n",
    "    outputDataConfig=outputDataConfig\n",
    ")\n",
    "\n",
    "jobArn = response_ft.get('jobArn')\n",
    "print(jobArn)"
   ]
  },
  {
   "cell_type": "markdown",
   "id": "9b18909c-37d7-4617-8e0c-e275082d8d0d",
   "metadata": {},
   "source": [
    "### Waiting until customization job is completed\n",
    "Once the customization job is finished, you can check your existing custom model(s) and retrieve the modelArn of your fine-tuned model.\n",
    "\n",
    "<div class=\\\"alert alert-block alert-warning\\\">\n",
    "    <b>Warning:</b> The model customization job can take hours to run. With 12000 steps, 0.000001 learning rate, 64 of batch size and x images, it takes around 4 hours to complete\n",
    "</div>"
   ]
  },
  {
   "cell_type": "markdown",
   "id": "24fcf3b2-e636-4d32-b144-cbddff810362",
   "metadata": {},
   "source": [
    "### Set Job Name\n",
    "\n",
    "The code below allows you to check the status of an existing job.\n",
    "\n",
    "<div class=\"alert alert-warning\">\n",
    "<b>WARNING:</b> This job can take up to 12 hours to complete. Please be patient, you can always comeback and continue the subsequent steps.\n",
    "</div>"
   ]
  },
  {
   "cell_type": "code",
   "execution_count": 17,
   "id": "0642c9bb-edc2-4577-bfe4-2ad9f5d647f5",
   "metadata": {},
   "outputs": [
    {
     "name": "stdout",
     "output_type": "stream",
     "text": [
      "Completed\n"
     ]
    }
   ],
   "source": [
    "# check model customization status\n",
    "status = bedrock.list_model_customization_jobs(\n",
    "    nameContains=jobName\n",
    ")[\"modelCustomizationJobSummaries\"][0][\"status\"]\n",
    "\n",
    "print(status)"
   ]
  },
  {
   "cell_type": "markdown",
   "id": "333cf65f-b333-46cc-bf21-748b6b34921d",
   "metadata": {},
   "source": [
    "Once Complete, get the new `customModelARN` using the code below, or you can manually set the parameter by copying the `customModelARN` from the console. "
   ]
  },
  {
   "cell_type": "code",
   "execution_count": 18,
   "id": "dc19b1f3-dcc0-4441-9769-6a487b958f5d",
   "metadata": {},
   "outputs": [],
   "source": [
    "custom_model_arn = bedrock.list_model_customization_jobs(\n",
    "    nameContains=jobName\n",
    ")[\"modelCustomizationJobSummaries\"][0][\"customModelArn\"]"
   ]
  },
  {
   "cell_type": "code",
   "execution_count": 19,
   "id": "1321b895-3788-4caa-8a0e-72a2ee626a46",
   "metadata": {},
   "outputs": [],
   "source": [
    "#custom_model_arn = \"\""
   ]
  },
  {
   "cell_type": "markdown",
   "id": "509a1dfb-7a6d-40a8-b503-3ab2ea4c6994",
   "metadata": {},
   "source": [
    "## Host Fine-tuned Model With Provisioned Throughput (PT)\n",
    "\n",
    "You will need to create provisioned throughput to be able to evaluate the model performance. You can do so through the console or use the following api call.\n",
    "\n",
    "<div class=\"alert alert-warning\">\n",
    "<b>WARNING:</b> Creating provisioned throughput will take 30mins to complete.\n",
    "</div>"
   ]
  },
  {
   "cell_type": "code",
   "execution_count": null,
   "id": "d87799b1-81dd-4029-86bf-adcab30133a7",
   "metadata": {},
   "outputs": [],
   "source": [
    "custom_model_name = name_from_base(model_name)\n",
    "\n",
    "# Create the provision throughput job and retrieve the provisioned model id\n",
    "provisioned_model_id = bedrock.create_provisioned_model_throughput(\n",
    "    modelUnits=1,\n",
    "    # create a name for your provisioned throughput model\n",
    "    provisionedModelName=custom_model_name, \n",
    "    modelId=custom_model_arn\n",
    ")['provisionedModelArn']"
   ]
  },
  {
   "cell_type": "code",
   "execution_count": null,
   "id": "9c5f942c-5e34-4305-bac3-7402a3837015",
   "metadata": {},
   "outputs": [],
   "source": [
    "%%time\n",
    "# check provisioned throughput job status\n",
    "import time\n",
    "status_provisioning = bedrock.get_provisioned_model_throughput(provisionedModelId = provisioned_model_id)['status'] \n",
    "while status_provisioning == 'Creating':\n",
    "    time.sleep(60)\n",
    "    status_provisioning = bedrock.get_provisioned_model_throughput(provisionedModelId=provisioned_model_id)['status']\n",
    "    print(status_provisioning)"
   ]
  },
  {
   "cell_type": "markdown",
   "id": "52d998c5-3cb5-488c-a0fd-2aec17c847b7",
   "metadata": {},
   "source": [
    "### Set Provisioned Model ID\n",
    "\n",
    "Similar to the job name, if you're returning to this notebook after creating a provisioned throughput, you can set the provisioned model ID manually here. This allows you to use an existing provisioned model without waiting for a new one to be created."
   ]
  },
  {
   "cell_type": "code",
   "execution_count": null,
   "id": "52d998c5-3cb5-488c-a0fd-2aec17c847b8",
   "metadata": {},
   "outputs": [],
   "source": [
    "# provisioned_model_id = \"<ENTER-YOUR-PT-ARN>\""
   ]
  },
  {
   "cell_type": "markdown",
   "id": "fe8b209c-bfb2-43ab-bd3a-ee5422813a15",
   "metadata": {},
   "source": [
    "## Test Fine-tuned Model\n",
    "We will now run some model experiments using the bedrock-runtime client with the invoke_model function to invoke both fine-tuned and pre-trained models.\n",
    "\n",
    "To invoke the provisioned custom model, notice you will need to run the previous step (create provisioned throughput) before proceeding."
   ]
  },
  {
   "cell_type": "code",
   "execution_count": null,
   "id": "52f03dd4-9f26-4854-9f98-83f02abefd41",
   "metadata": {},
   "outputs": [],
   "source": [
    "import json\n",
    "import io\n",
    "from PIL import Image\n",
    "import base64\n",
    "\n",
    "def decode_base64_image(img_b64):\n",
    "    return Image.open(io.BytesIO(base64.b64decode(img_b64)))\n",
    "    \n",
    "def generate_image(prompt,\n",
    "                   negative_prompt=\"text, ugly, blurry, distorted, low quality, pixelated, watermark, text, deformed\", \n",
    "                   num_of_images=3,\n",
    "                   seed=1):\n",
    "    \"\"\"\n",
    "    Generate an image using Amazon Nova Canvas.\n",
    "    \"\"\"\n",
    "\n",
    "    image_gen_config = {\n",
    "            \"numberOfImages\": num_of_images,\n",
    "            \"quality\": \"premium\",\n",
    "            \"width\": 1024,  # Maximum resolution 2048 x 2048\n",
    "            \"height\": 1024,  # 1:1 ratio\n",
    "            \"cfgScale\": 8.0,\n",
    "            \"seed\": seed,\n",
    "        }\n",
    "\n",
    "    # Prepare the request body\n",
    "    request_body = {\n",
    "        \"taskType\": \"TEXT_IMAGE\",\n",
    "        \"textToImageParams\": {\n",
    "            \"text\": prompt,\n",
    "            \"negativeText\": negative_prompt,  # List things to avoid\n",
    "        },\n",
    "        \"imageGenerationConfig\": image_gen_config\n",
    "    } \n",
    "\n",
    "    response = bedrock_runtime.invoke_model(\n",
    "        modelId=provisioned_model_id,\n",
    "        body=json.dumps(request_body)\n",
    "    )\n",
    "\n",
    "    # Parse the response\n",
    "    response_body = json.loads(response['body'].read())\n",
    "\n",
    "    if \"images\" in response_body:\n",
    "        # Extract the image\n",
    "        return [decode_base64_image(img) for img in response_body['images']]\n",
    "    else:\n",
    "        print(response_body)\n",
    "        return"
   ]
  },
  {
   "cell_type": "code",
   "execution_count": null,
   "id": "fcf758f0-a3e7-4e66-b9be-fb8f4e80bb3a",
   "metadata": {},
   "outputs": [],
   "source": [
    "prompt = \"Mayu smiling with a mistic forest in the background\"\n",
    "# prompt = \"Close-up of Mayu gestures towards a cute, fluffy white baby llama with big curious eyes.\"\n",
    "# prompt = \"Mayu is sitting on the ground with fence of rope around her. She has a confused expression. A fluffy white baby llama prances near her. The background shows hills and sky.\"\n",
    "# prompt = \"Mayu stands in front of a wooden fence. A cute fluffy white baby llama stands triumphantly in the foreground. Small bags are scattered on the ground near the llama. A comical scene in the Peruvian Andes.\"\n",
    "# prompt = \"Mayu playing a flute. Beside her, a fluffy white baby llama with its big curious eyes focused on Mayu. The background showcases Andean mountains.\"\n",
    "# prompt = \"An Andean village scene with traditional buildings. In the center, Mayu stands confidently playing a wooden flute. Next to her, a cute white baby llama dances, carrying a small woven bag in its mouth\"\n",
    "# prompt = \"Mayu standing proudly at the entrance of a simple school building. Her face beams with a wide smile, expressing pride and accomplishment.\"\n",
    "# prompt = \"Mayu face shows a mix of nervousness and determination. Mommy kneels beside her, gently holder her. A landscape is visible in the background.\"\n",
    "# prompt = \"A steep cliff face with a long wooden ladder extending downwards. Halfway down the ladder is Mayu with a determined expression on her face. Mayu’s small hands grip the sides of the ladder tightly as she carefully places her feet on each rung. The surrounding environment shows a rugged, mountainous landscape.\""
   ]
  },
  {
   "cell_type": "code",
   "execution_count": null,
   "id": "92c1cf7d-0f0c-43ef-b9fb-a77686505d69",
   "metadata": {
    "scrolled": true
   },
   "outputs": [],
   "source": [
    "import matplotlib.pyplot as plt\n",
    "import random\n",
    "import uuid\n",
    "\n",
    "seed = random.randint(1, 858993459)\n",
    "print(f\"seed: {seed}\")\n",
    "\n",
    "images = generate_image(prompt=prompt, seed=seed)\n",
    "\n",
    "if images:\n",
    "    n = len(images)\n",
    "    cols = min(3, n)  # number of columns\n",
    "    rows = (n + cols - 1) // cols\n",
    "    \n",
    "    plt.figure(figsize=(cols * 5, rows * 5))\n",
    "    for i, img in enumerate(images):\n",
    "        plt.subplot(rows, cols, i + 1)\n",
    "        plt.imshow(img)\n",
    "        plt.axis('off')\n",
    "    plt.show()"
   ]
  },
  {
   "cell_type": "markdown",
   "id": "787936e9-1920-4022-be8a-833efaa0efd8",
   "metadata": {},
   "source": [
    "## Clean Up\n",
    "\n",
    "<div class=\"alert alert-danger\">\n",
    "<b>WARNING:</b> After you are done, please remove provision throughput and fine-tuned model to avoid additional charges\n",
    "</div>"
   ]
  },
  {
   "cell_type": "markdown",
   "id": "c51ef7eb-12b6-4c72-a20a-fdea985d92e7",
   "metadata": {},
   "source": [
    "Delete Provisioned Throughput"
   ]
  },
  {
   "cell_type": "code",
   "execution_count": null,
   "id": "c51ef7eb-12b6-4c72-a20a-fdea985d92e8",
   "metadata": {},
   "outputs": [],
   "source": [
    "response = bedrock.delete_provisioned_model_throughput(\n",
    "    provisionedModelId=provisioned_model_id\n",
    ")"
   ]
  },
  {
   "cell_type": "markdown",
   "id": "ca99168f-b29d-49aa-9fd3-60be78f23d08",
   "metadata": {},
   "source": [
    "Delete Custom Model"
   ]
  },
  {
   "cell_type": "code",
   "execution_count": null,
   "id": "ca99168f-b29d-49aa-9fd3-60be78f23d09",
   "metadata": {},
   "outputs": [],
   "source": [
    "response = bedrock.delete_custom_model(\n",
    "    modelIdentifier=custom_model_arn\n",
    ")"
   ]
  }
 ],
 "metadata": {
  "kernelspec": {
   "display_name": "jupyter-notebook",
   "language": "python",
   "name": "python3"
  },
  "language_info": {
   "codemirror_mode": {
    "name": "ipython",
    "version": 3
   },
   "file_extension": ".py",
   "mimetype": "text/x-python",
   "name": "python",
   "nbconvert_exporter": "python",
   "pygments_lexer": "ipython3",
   "version": "3.13.3"
  }
 },
 "nbformat": 4,
 "nbformat_minor": 5
}
